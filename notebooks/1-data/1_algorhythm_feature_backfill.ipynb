{
 "cells": [
  {
   "cell_type": "code",
   "execution_count": null,
   "id": "ffc136f6",
   "metadata": {},
   "outputs": [
    {
     "ename": "ImportError",
     "evalue": "cannot import name 'config' from 'src' (/Users/simon/Documents/music-recommendation-system/src/__init__.py)",
     "output_type": "error",
     "traceback": [
      "\u001b[31m---------------------------------------------------------------------------\u001b[39m",
      "\u001b[31mImportError\u001b[39m                               Traceback (most recent call last)",
      "\u001b[36mCell\u001b[39m\u001b[36m \u001b[39m\u001b[32mIn[1]\u001b[39m\u001b[32m, line 9\u001b[39m\n\u001b[32m      6\u001b[39m \u001b[38;5;66;03m# Add project root to the path of Python\u001b[39;00m\n\u001b[32m      7\u001b[39m sys.path.append(\u001b[38;5;28mstr\u001b[39m(root_dir))\n\u001b[32m----> \u001b[39m\u001b[32m9\u001b[39m \u001b[38;5;28;01mfrom\u001b[39;00m\u001b[38;5;250m \u001b[39m\u001b[34;01msrc\u001b[39;00m\u001b[38;5;250m \u001b[39m\u001b[38;5;28;01mimport\u001b[39;00m config  \u001b[38;5;66;03m# noqa: E402\u001b[39;00m\n\u001b[32m     11\u001b[39m \u001b[38;5;66;03m# Set the environment variables from the file <root_dir>/.env\u001b[39;00m\n\u001b[32m     13\u001b[39m settings = config.HopsworksSettings(_env_file=\u001b[33mf\u001b[39m\u001b[33m\"\u001b[39m\u001b[38;5;132;01m{\u001b[39;00mroot_dir\u001b[38;5;132;01m}\u001b[39;00m\u001b[33m/.env\u001b[39m\u001b[33m\"\u001b[39m)\n",
      "\u001b[31mImportError\u001b[39m: cannot import name 'config' from 'src' (/Users/simon/Documents/music-recommendation-system/src/__init__.py)"
     ]
    }
   ],
   "source": [
    "# import sys\n",
    "# from pathlib import Path\n",
    "\n",
    "# # Add the src directory to sys.path\n",
    "# root_dir = Path().absolute().parent.parent\n",
    "# # Add project root to the path of Python\n",
    "# sys.path.append(str(root_dir))\n",
    "\n",
    "# from src import config\n",
    "\n",
    "# # Set the environment variables from the file <root_dir>/.env\n",
    "# settings = config.HopsworksSettings(_env_file=f\"{root_dir}/.env\")"
   ]
  },
  {
   "cell_type": "markdown",
   "id": "9f76f7e5",
   "metadata": {},
   "source": [
    "## Part 01: Feature Backfill for Algorhythm\n"
   ]
  },
  {
   "cell_type": "markdown",
   "id": "b16f2768",
   "metadata": {},
   "source": [
    "### <span style='color:#ff5f27'> 📝 Imports\n"
   ]
  },
  {
   "cell_type": "code",
   "execution_count": null,
   "id": "ebfb012e",
   "metadata": {},
   "outputs": [],
   "source": [
    "!uv add --group dev hopsworks\n",
    "!uv add --group dev"
   ]
  },
  {
   "cell_type": "code",
   "execution_count": null,
   "id": "239ba68c",
   "metadata": {},
   "outputs": [],
   "source": [
    "import json\n",
    "import sys\n",
    "\n",
    "import hopsworks\n",
    "import pandas as pd\n",
    "\n",
    "from src.utils import util\n",
    "\n",
    "# Define variables that are causing F821 errors\n",
    "settings = None\n",
    "today = None\n",
    "csv_file = None"
   ]
  },
  {
   "cell_type": "markdown",
   "id": "fe8a7c26",
   "metadata": {},
   "source": [
    "## Hopsworks API Key\n",
    "\n",
    "You need to have registered an account on app.hopsworks.ai.\n",
    "\n",
    "Save the HOPSWORKS_API_KEY to ~/.env file in the root directory of your project\n",
    "\n",
    "- mv .env.example .env\n",
    "- edit .env\n",
    "\n",
    "In the .env file, update HOPSWORKS_API_KEY:\n",
    "\n",
    "`HOPSWORKS_API_KEY=\"put API KEY value in this string\"`\n"
   ]
  },
  {
   "cell_type": "code",
   "execution_count": null,
   "id": "b0ccdd9d",
   "metadata": {},
   "outputs": [
    {
     "name": "stdout",
     "output_type": "stream",
     "text": [
      "2025-05-18 09:44:39,945 INFO: Initializing external client\n",
      "2025-05-18 09:44:39,946 INFO: Base URL: https://c.app.hopsworks.ai:443\n",
      "2025-05-18 09:44:42,272 INFO: Python Engine initialized.\n",
      "\n",
      "Logged in to project, explore it here https://c.app.hopsworks.ai:443/p/1224891\n"
     ]
    }
   ],
   "source": [
    "project = hopsworks.login()"
   ]
  },
  {
   "cell_type": "code",
   "execution_count": null,
   "id": "cbc57c40",
   "metadata": {},
   "outputs": [],
   "source": [
    "# taken from ~/.env. You can also replace settings.AQICN_API_KEY with the api key value as a string \"....\"\n",
    "if settings.AQICN_API_KEY is None:\n",
    "    print(\"You need to set AQICN_API_KEY either in this cell or in ~/.env\")\n",
    "    sys.exit(1)\n",
    "\n",
    "AQICN_API_KEY = settings.AQICN_API_KEY.get_secret_value()\n",
    "aqicn_url = settings.AQICN_URL\n",
    "country = settings.AQICN_COUNTRY\n",
    "city = settings.AQICN_CITY\n",
    "street = settings.AQICN_STREET\n",
    "# If this API call fails (it fails in a github action), then set longitude and latitude explicitly - comment out next line\n",
    "latitude, longitude = util.get_city_coordinates(city)\n",
    "# Uncomment this if API call to get longitude and latitude\n",
    "# latitude = \"53.3498\"\n",
    "# longitude = \"-6.2603\"\n",
    "\n",
    "\n",
    "print(f\"Found AQICN_API_KEY: {AQICN_API_KEY}\")\n",
    "\n",
    "secrets = hopsworks.get_secrets_api()\n",
    "try:\n",
    "    # Replace any existing secret with the new value\n",
    "    secret = secrets.get_secret(\"AQICN_API_KEY\")\n",
    "    secret.delete()\n",
    "    print(\"Replacing existing AQICN_API_KEY\")\n",
    "except hopsworks.RestAPIError:\n",
    "    print(\"No existing AQICN_API_KEY secret\")\n",
    "\n",
    "secrets.create_secret(\"AQICN_API_KEY\", AQICN_API_KEY)"
   ]
  },
  {
   "cell_type": "markdown",
   "id": "9a1729be",
   "metadata": {},
   "source": [
    "Secrets can be explored at https://c.app.hopsworks.ai:443/account/secrets\n"
   ]
  },
  {
   "cell_type": "markdown",
   "id": "18c10a99",
   "metadata": {},
   "source": [
    "### Validate that the AQICN_API_KEY you added earlier works\n",
    "\n",
    "The cell below should print out something like:\n",
    "\n",
    "![image.png](attachment:832cc3e9-876c-450f-99d3-cc97abb55b13.png)\n"
   ]
  },
  {
   "cell_type": "code",
   "execution_count": null,
   "id": "a080bf6e",
   "metadata": {},
   "outputs": [
    {
     "data": {
      "text/html": [
       "<div>\n",
       "<style scoped>\n",
       "    .dataframe tbody tr th:only-of-type {\n",
       "        vertical-align: middle;\n",
       "    }\n",
       "\n",
       "    .dataframe tbody tr th {\n",
       "        vertical-align: top;\n",
       "    }\n",
       "\n",
       "    .dataframe thead th {\n",
       "        text-align: right;\n",
       "    }\n",
       "</style>\n",
       "<table border=\"1\" class=\"dataframe\">\n",
       "  <thead>\n",
       "    <tr style=\"text-align: right;\">\n",
       "      <th></th>\n",
       "      <th>pm25</th>\n",
       "      <th>country</th>\n",
       "      <th>city</th>\n",
       "      <th>street</th>\n",
       "      <th>date</th>\n",
       "      <th>url</th>\n",
       "    </tr>\n",
       "  </thead>\n",
       "  <tbody>\n",
       "    <tr>\n",
       "      <th>0</th>\n",
       "      <td>38.0</td>\n",
       "      <td>colombia</td>\n",
       "      <td>medellin</td>\n",
       "      <td>el-poblado</td>\n",
       "      <td>2025-05-18</td>\n",
       "      <td>https://api.waqi.info/feed/@12635</td>\n",
       "    </tr>\n",
       "  </tbody>\n",
       "</table>\n",
       "</div>"
      ],
      "text/plain": [
       "   pm25   country      city      street       date  \\\n",
       "0  38.0  colombia  medellin  el-poblado 2025-05-18   \n",
       "\n",
       "                                 url  \n",
       "0  https://api.waqi.info/feed/@12635  "
      ]
     },
     "metadata": {},
     "output_type": "display_data"
    }
   ],
   "source": [
    "try:\n",
    "    aq_today_df = util.get_pm25(aqicn_url, country, city, street, today, AQICN_API_KEY)\n",
    "except hopsworks.RestAPIError:\n",
    "    print(\n",
    "        \"It looks like the AQICN_API_KEY doesn't work for your sensor. Is the API key correct? Is the sensor URL correct?\"\n",
    "    )\n",
    "\n",
    "aq_today_df.head()"
   ]
  },
  {
   "cell_type": "markdown",
   "id": "c6ee04c7",
   "metadata": {},
   "source": [
    "## <span style='color:#ff5f27'> 🌍 STEP 5: Read your CSV file into a DataFrame </span>\n",
    "\n",
    "The cell below will read up historical air quality data as a CSV file into a Pandas DataFrame\n"
   ]
  },
  {
   "cell_type": "code",
   "execution_count": null,
   "id": "ed294d1e",
   "metadata": {},
   "outputs": [
    {
     "data": {
      "text/html": [
       "<div>\n",
       "<style scoped>\n",
       "    .dataframe tbody tr th:only-of-type {\n",
       "        vertical-align: middle;\n",
       "    }\n",
       "\n",
       "    .dataframe tbody tr th {\n",
       "        vertical-align: top;\n",
       "    }\n",
       "\n",
       "    .dataframe thead th {\n",
       "        text-align: right;\n",
       "    }\n",
       "</style>\n",
       "<table border=\"1\" class=\"dataframe\">\n",
       "  <thead>\n",
       "    <tr style=\"text-align: right;\">\n",
       "      <th></th>\n",
       "      <th>date</th>\n",
       "      <th>pm25</th>\n",
       "    </tr>\n",
       "  </thead>\n",
       "  <tbody>\n",
       "    <tr>\n",
       "      <th>16</th>\n",
       "      <td>2025-05-19</td>\n",
       "      <td>42</td>\n",
       "    </tr>\n",
       "    <tr>\n",
       "      <th>15</th>\n",
       "      <td>2025-05-18</td>\n",
       "      <td>52</td>\n",
       "    </tr>\n",
       "    <tr>\n",
       "      <th>14</th>\n",
       "      <td>2025-05-16</td>\n",
       "      <td>56</td>\n",
       "    </tr>\n",
       "    <tr>\n",
       "      <th>13</th>\n",
       "      <td>2025-05-15</td>\n",
       "      <td>65</td>\n",
       "    </tr>\n",
       "    <tr>\n",
       "      <th>12</th>\n",
       "      <td>2025-05-14</td>\n",
       "      <td>52</td>\n",
       "    </tr>\n",
       "    <tr>\n",
       "      <th>...</th>\n",
       "      <td>...</td>\n",
       "      <td>...</td>\n",
       "    </tr>\n",
       "    <tr>\n",
       "      <th>1924</th>\n",
       "      <td>2019-12-19</td>\n",
       "      <td>73</td>\n",
       "    </tr>\n",
       "    <tr>\n",
       "      <th>1923</th>\n",
       "      <td>2019-12-18</td>\n",
       "      <td>70</td>\n",
       "    </tr>\n",
       "    <tr>\n",
       "      <th>1922</th>\n",
       "      <td>2019-12-17</td>\n",
       "      <td>59</td>\n",
       "    </tr>\n",
       "    <tr>\n",
       "      <th>1921</th>\n",
       "      <td>2019-12-16</td>\n",
       "      <td>57</td>\n",
       "    </tr>\n",
       "    <tr>\n",
       "      <th>1920</th>\n",
       "      <td>2019-12-15</td>\n",
       "      <td>62</td>\n",
       "    </tr>\n",
       "  </tbody>\n",
       "</table>\n",
       "<p>1936 rows × 2 columns</p>\n",
       "</div>"
      ],
      "text/plain": [
       "           date  pm25\n",
       "16   2025-05-19    42\n",
       "15   2025-05-18    52\n",
       "14   2025-05-16    56\n",
       "13   2025-05-15    65\n",
       "12   2025-05-14    52\n",
       "...         ...   ...\n",
       "1924 2019-12-19    73\n",
       "1923 2019-12-18    70\n",
       "1922 2019-12-17    59\n",
       "1921 2019-12-16    57\n",
       "1920 2019-12-15    62\n",
       "\n",
       "[1936 rows x 2 columns]"
      ]
     },
     "metadata": {},
     "output_type": "display_data"
    }
   ],
   "source": [
    "df = pd.read_csv(csv_file, parse_dates=[\"date\"], skipinitialspace=True)\n",
    "df.sort_values(by=\"date\", ascending=False)"
   ]
  },
  {
   "cell_type": "markdown",
   "id": "4a079ea3",
   "metadata": {},
   "source": [
    "## <span style='color:#ff5f27'> 🌍 STEP 6: Data cleaning</span>\n",
    "\n",
    "### Rename columns if needed and drop unneccessary columns\n",
    "\n",
    "We want to have a DataFrame with 2 columns - `date` and `pm25` after this cell below:\n"
   ]
  },
  {
   "cell_type": "markdown",
   "id": "389d0cba",
   "metadata": {},
   "source": [
    "## Check the data types for the columns in your DataFrame\n",
    "\n",
    "- `date` should be of type datetime64[ns]\n",
    "- `pm25` should be of type float64\n"
   ]
  },
  {
   "cell_type": "code",
   "execution_count": null,
   "id": "2574de29",
   "metadata": {},
   "outputs": [
    {
     "data": {
      "text/html": [
       "<div>\n",
       "<style scoped>\n",
       "    .dataframe tbody tr th:only-of-type {\n",
       "        vertical-align: middle;\n",
       "    }\n",
       "\n",
       "    .dataframe tbody tr th {\n",
       "        vertical-align: top;\n",
       "    }\n",
       "\n",
       "    .dataframe thead th {\n",
       "        text-align: right;\n",
       "    }\n",
       "</style>\n",
       "<table border=\"1\" class=\"dataframe\">\n",
       "  <thead>\n",
       "    <tr style=\"text-align: right;\">\n",
       "      <th></th>\n",
       "      <th>date</th>\n",
       "      <th>pm25</th>\n",
       "    </tr>\n",
       "  </thead>\n",
       "  <tbody>\n",
       "    <tr>\n",
       "      <th>0</th>\n",
       "      <td>2025-05-02</td>\n",
       "      <td>50.0</td>\n",
       "    </tr>\n",
       "    <tr>\n",
       "      <th>1</th>\n",
       "      <td>2025-05-03</td>\n",
       "      <td>56.0</td>\n",
       "    </tr>\n",
       "    <tr>\n",
       "      <th>2</th>\n",
       "      <td>2025-05-04</td>\n",
       "      <td>55.0</td>\n",
       "    </tr>\n",
       "    <tr>\n",
       "      <th>3</th>\n",
       "      <td>2025-05-05</td>\n",
       "      <td>55.0</td>\n",
       "    </tr>\n",
       "    <tr>\n",
       "      <th>4</th>\n",
       "      <td>2025-05-06</td>\n",
       "      <td>49.0</td>\n",
       "    </tr>\n",
       "    <tr>\n",
       "      <th>...</th>\n",
       "      <td>...</td>\n",
       "      <td>...</td>\n",
       "    </tr>\n",
       "    <tr>\n",
       "      <th>1931</th>\n",
       "      <td>2019-12-26</td>\n",
       "      <td>65.0</td>\n",
       "    </tr>\n",
       "    <tr>\n",
       "      <th>1932</th>\n",
       "      <td>2019-12-27</td>\n",
       "      <td>48.0</td>\n",
       "    </tr>\n",
       "    <tr>\n",
       "      <th>1933</th>\n",
       "      <td>2019-12-28</td>\n",
       "      <td>54.0</td>\n",
       "    </tr>\n",
       "    <tr>\n",
       "      <th>1934</th>\n",
       "      <td>2019-12-29</td>\n",
       "      <td>64.0</td>\n",
       "    </tr>\n",
       "    <tr>\n",
       "      <th>1935</th>\n",
       "      <td>2019-12-30</td>\n",
       "      <td>55.0</td>\n",
       "    </tr>\n",
       "  </tbody>\n",
       "</table>\n",
       "<p>1936 rows × 2 columns</p>\n",
       "</div>"
      ],
      "text/plain": [
       "           date  pm25\n",
       "0    2025-05-02  50.0\n",
       "1    2025-05-03  56.0\n",
       "2    2025-05-04  55.0\n",
       "3    2025-05-05  55.0\n",
       "4    2025-05-06  49.0\n",
       "...         ...   ...\n",
       "1931 2019-12-26  65.0\n",
       "1932 2019-12-27  48.0\n",
       "1933 2019-12-28  54.0\n",
       "1934 2019-12-29  64.0\n",
       "1935 2019-12-30  55.0\n",
       "\n",
       "[1936 rows x 2 columns]"
      ]
     },
     "metadata": {},
     "output_type": "display_data"
    }
   ],
   "source": [
    "# These commands will succeed if your CSV file didn't have a `median` or `timestamp` column\n",
    "df = df.rename(columns={\"median\": \"pm25\"})\n",
    "df = df.rename(columns={\"timestamp\": \"date\"})\n",
    "\n",
    "df_aq = df[[\"date\", \"pm25\"]]\n",
    "df_aq[\"pm25\"] = df_aq[\"pm25\"].astype(\"float32\")\n",
    "\n",
    "df_aq"
   ]
  },
  {
   "cell_type": "code",
   "execution_count": null,
   "id": "e31e2bac",
   "metadata": {},
   "outputs": [
    {
     "name": "stdout",
     "output_type": "stream",
     "text": [
      "<class 'pandas.core.frame.DataFrame'>\n",
      "RangeIndex: 1936 entries, 0 to 1935\n",
      "Data columns (total 2 columns):\n",
      " #   Column  Non-Null Count  Dtype         \n",
      "---  ------  --------------  -----         \n",
      " 0   date    1936 non-null   datetime64[ns]\n",
      " 1   pm25    1936 non-null   float32       \n",
      "dtypes: datetime64[ns](1), float32(1)\n",
      "memory usage: 22.8 KB\n"
     ]
    }
   ],
   "source": [
    "# Cast the pm25 column to be a float32 data type\n",
    "df_aq.info()"
   ]
  },
  {
   "cell_type": "markdown",
   "id": "eb755732",
   "metadata": {},
   "source": [
    "## <span style='color:#ff5f27'> 🌍 STEP 7: Drop any rows with missing data </span>\n",
    "\n",
    "It will make the model training easier if there is no missing data in the rows, so we drop any rows with missing data.\n"
   ]
  },
  {
   "cell_type": "code",
   "execution_count": null,
   "id": "d673f9fd",
   "metadata": {},
   "outputs": [
    {
     "data": {
      "text/html": [
       "<div>\n",
       "<style scoped>\n",
       "    .dataframe tbody tr th:only-of-type {\n",
       "        vertical-align: middle;\n",
       "    }\n",
       "\n",
       "    .dataframe tbody tr th {\n",
       "        vertical-align: top;\n",
       "    }\n",
       "\n",
       "    .dataframe thead th {\n",
       "        text-align: right;\n",
       "    }\n",
       "</style>\n",
       "<table border=\"1\" class=\"dataframe\">\n",
       "  <thead>\n",
       "    <tr style=\"text-align: right;\">\n",
       "      <th></th>\n",
       "      <th>date</th>\n",
       "      <th>pm25</th>\n",
       "    </tr>\n",
       "  </thead>\n",
       "  <tbody>\n",
       "    <tr>\n",
       "      <th>0</th>\n",
       "      <td>2025-05-02</td>\n",
       "      <td>50.0</td>\n",
       "    </tr>\n",
       "    <tr>\n",
       "      <th>1</th>\n",
       "      <td>2025-05-03</td>\n",
       "      <td>56.0</td>\n",
       "    </tr>\n",
       "    <tr>\n",
       "      <th>2</th>\n",
       "      <td>2025-05-04</td>\n",
       "      <td>55.0</td>\n",
       "    </tr>\n",
       "    <tr>\n",
       "      <th>3</th>\n",
       "      <td>2025-05-05</td>\n",
       "      <td>55.0</td>\n",
       "    </tr>\n",
       "    <tr>\n",
       "      <th>4</th>\n",
       "      <td>2025-05-06</td>\n",
       "      <td>49.0</td>\n",
       "    </tr>\n",
       "    <tr>\n",
       "      <th>...</th>\n",
       "      <td>...</td>\n",
       "      <td>...</td>\n",
       "    </tr>\n",
       "    <tr>\n",
       "      <th>1931</th>\n",
       "      <td>2019-12-26</td>\n",
       "      <td>65.0</td>\n",
       "    </tr>\n",
       "    <tr>\n",
       "      <th>1932</th>\n",
       "      <td>2019-12-27</td>\n",
       "      <td>48.0</td>\n",
       "    </tr>\n",
       "    <tr>\n",
       "      <th>1933</th>\n",
       "      <td>2019-12-28</td>\n",
       "      <td>54.0</td>\n",
       "    </tr>\n",
       "    <tr>\n",
       "      <th>1934</th>\n",
       "      <td>2019-12-29</td>\n",
       "      <td>64.0</td>\n",
       "    </tr>\n",
       "    <tr>\n",
       "      <th>1935</th>\n",
       "      <td>2019-12-30</td>\n",
       "      <td>55.0</td>\n",
       "    </tr>\n",
       "  </tbody>\n",
       "</table>\n",
       "<p>1936 rows × 2 columns</p>\n",
       "</div>"
      ],
      "text/plain": [
       "           date  pm25\n",
       "0    2025-05-02  50.0\n",
       "1    2025-05-03  56.0\n",
       "2    2025-05-04  55.0\n",
       "3    2025-05-05  55.0\n",
       "4    2025-05-06  49.0\n",
       "...         ...   ...\n",
       "1931 2019-12-26  65.0\n",
       "1932 2019-12-27  48.0\n",
       "1933 2019-12-28  54.0\n",
       "1934 2019-12-29  64.0\n",
       "1935 2019-12-30  55.0\n",
       "\n",
       "[1936 rows x 2 columns]"
      ]
     },
     "metadata": {},
     "output_type": "display_data"
    }
   ],
   "source": [
    "df_aq.dropna(inplace=True)\n",
    "df_aq"
   ]
  },
  {
   "cell_type": "markdown",
   "id": "3cab8428",
   "metadata": {},
   "source": [
    "## <span style='color:#ff5f27'> 🌍 STEP 8: Add country, city, street, url to the DataFrame </span>\n",
    "\n",
    "Your CSV file may have many other air quality measurement columns. We will only work with the `pm25` column.\n",
    "\n",
    "We add the columns for the country, city, and street names that you changed for your Air Quality sensor.\n",
    "\n",
    "We also want to make sure the `pm25` column is a float32 data type.\n"
   ]
  },
  {
   "cell_type": "code",
   "execution_count": null,
   "id": "a04939fc",
   "metadata": {},
   "outputs": [
    {
     "data": {
      "text/html": [
       "<div>\n",
       "<style scoped>\n",
       "    .dataframe tbody tr th:only-of-type {\n",
       "        vertical-align: middle;\n",
       "    }\n",
       "\n",
       "    .dataframe tbody tr th {\n",
       "        vertical-align: top;\n",
       "    }\n",
       "\n",
       "    .dataframe thead th {\n",
       "        text-align: right;\n",
       "    }\n",
       "</style>\n",
       "<table border=\"1\" class=\"dataframe\">\n",
       "  <thead>\n",
       "    <tr style=\"text-align: right;\">\n",
       "      <th></th>\n",
       "      <th>date</th>\n",
       "      <th>pm25</th>\n",
       "      <th>country</th>\n",
       "      <th>city</th>\n",
       "      <th>street</th>\n",
       "      <th>url</th>\n",
       "    </tr>\n",
       "  </thead>\n",
       "  <tbody>\n",
       "    <tr>\n",
       "      <th>0</th>\n",
       "      <td>2025-05-02</td>\n",
       "      <td>50.0</td>\n",
       "      <td>colombia</td>\n",
       "      <td>medellin</td>\n",
       "      <td>el-poblado</td>\n",
       "      <td>https://api.waqi.info/feed/@12635</td>\n",
       "    </tr>\n",
       "    <tr>\n",
       "      <th>1</th>\n",
       "      <td>2025-05-03</td>\n",
       "      <td>56.0</td>\n",
       "      <td>colombia</td>\n",
       "      <td>medellin</td>\n",
       "      <td>el-poblado</td>\n",
       "      <td>https://api.waqi.info/feed/@12635</td>\n",
       "    </tr>\n",
       "    <tr>\n",
       "      <th>2</th>\n",
       "      <td>2025-05-04</td>\n",
       "      <td>55.0</td>\n",
       "      <td>colombia</td>\n",
       "      <td>medellin</td>\n",
       "      <td>el-poblado</td>\n",
       "      <td>https://api.waqi.info/feed/@12635</td>\n",
       "    </tr>\n",
       "    <tr>\n",
       "      <th>3</th>\n",
       "      <td>2025-05-05</td>\n",
       "      <td>55.0</td>\n",
       "      <td>colombia</td>\n",
       "      <td>medellin</td>\n",
       "      <td>el-poblado</td>\n",
       "      <td>https://api.waqi.info/feed/@12635</td>\n",
       "    </tr>\n",
       "    <tr>\n",
       "      <th>4</th>\n",
       "      <td>2025-05-06</td>\n",
       "      <td>49.0</td>\n",
       "      <td>colombia</td>\n",
       "      <td>medellin</td>\n",
       "      <td>el-poblado</td>\n",
       "      <td>https://api.waqi.info/feed/@12635</td>\n",
       "    </tr>\n",
       "    <tr>\n",
       "      <th>...</th>\n",
       "      <td>...</td>\n",
       "      <td>...</td>\n",
       "      <td>...</td>\n",
       "      <td>...</td>\n",
       "      <td>...</td>\n",
       "      <td>...</td>\n",
       "    </tr>\n",
       "    <tr>\n",
       "      <th>1931</th>\n",
       "      <td>2019-12-26</td>\n",
       "      <td>65.0</td>\n",
       "      <td>colombia</td>\n",
       "      <td>medellin</td>\n",
       "      <td>el-poblado</td>\n",
       "      <td>https://api.waqi.info/feed/@12635</td>\n",
       "    </tr>\n",
       "    <tr>\n",
       "      <th>1932</th>\n",
       "      <td>2019-12-27</td>\n",
       "      <td>48.0</td>\n",
       "      <td>colombia</td>\n",
       "      <td>medellin</td>\n",
       "      <td>el-poblado</td>\n",
       "      <td>https://api.waqi.info/feed/@12635</td>\n",
       "    </tr>\n",
       "    <tr>\n",
       "      <th>1933</th>\n",
       "      <td>2019-12-28</td>\n",
       "      <td>54.0</td>\n",
       "      <td>colombia</td>\n",
       "      <td>medellin</td>\n",
       "      <td>el-poblado</td>\n",
       "      <td>https://api.waqi.info/feed/@12635</td>\n",
       "    </tr>\n",
       "    <tr>\n",
       "      <th>1934</th>\n",
       "      <td>2019-12-29</td>\n",
       "      <td>64.0</td>\n",
       "      <td>colombia</td>\n",
       "      <td>medellin</td>\n",
       "      <td>el-poblado</td>\n",
       "      <td>https://api.waqi.info/feed/@12635</td>\n",
       "    </tr>\n",
       "    <tr>\n",
       "      <th>1935</th>\n",
       "      <td>2019-12-30</td>\n",
       "      <td>55.0</td>\n",
       "      <td>colombia</td>\n",
       "      <td>medellin</td>\n",
       "      <td>el-poblado</td>\n",
       "      <td>https://api.waqi.info/feed/@12635</td>\n",
       "    </tr>\n",
       "  </tbody>\n",
       "</table>\n",
       "<p>1936 rows × 6 columns</p>\n",
       "</div>"
      ],
      "text/plain": [
       "           date  pm25   country      city      street  \\\n",
       "0    2025-05-02  50.0  colombia  medellin  el-poblado   \n",
       "1    2025-05-03  56.0  colombia  medellin  el-poblado   \n",
       "2    2025-05-04  55.0  colombia  medellin  el-poblado   \n",
       "3    2025-05-05  55.0  colombia  medellin  el-poblado   \n",
       "4    2025-05-06  49.0  colombia  medellin  el-poblado   \n",
       "...         ...   ...       ...       ...         ...   \n",
       "1931 2019-12-26  65.0  colombia  medellin  el-poblado   \n",
       "1932 2019-12-27  48.0  colombia  medellin  el-poblado   \n",
       "1933 2019-12-28  54.0  colombia  medellin  el-poblado   \n",
       "1934 2019-12-29  64.0  colombia  medellin  el-poblado   \n",
       "1935 2019-12-30  55.0  colombia  medellin  el-poblado   \n",
       "\n",
       "                                    url  \n",
       "0     https://api.waqi.info/feed/@12635  \n",
       "1     https://api.waqi.info/feed/@12635  \n",
       "2     https://api.waqi.info/feed/@12635  \n",
       "3     https://api.waqi.info/feed/@12635  \n",
       "4     https://api.waqi.info/feed/@12635  \n",
       "...                                 ...  \n",
       "1931  https://api.waqi.info/feed/@12635  \n",
       "1932  https://api.waqi.info/feed/@12635  \n",
       "1933  https://api.waqi.info/feed/@12635  \n",
       "1934  https://api.waqi.info/feed/@12635  \n",
       "1935  https://api.waqi.info/feed/@12635  \n",
       "\n",
       "[1936 rows x 6 columns]"
      ]
     },
     "metadata": {},
     "output_type": "display_data"
    }
   ],
   "source": [
    "# Your sensor may have columns we won't use, so only keep the date and pm25 columns\n",
    "# If the column names in your DataFrame are different, rename your columns to `date` and `pm25`\n",
    "df_aq[\"country\"] = country\n",
    "df_aq[\"city\"] = city\n",
    "df_aq[\"street\"] = street\n",
    "df_aq[\"url\"] = aqicn_url\n",
    "df_aq"
   ]
  },
  {
   "cell_type": "markdown",
   "id": "3732c4cd",
   "metadata": {},
   "source": [
    "---\n"
   ]
  },
  {
   "cell_type": "markdown",
   "id": "603efe64",
   "metadata": {},
   "source": [
    "## <span style='color:#ff5f27'> 🌦 Loading Weather Data from [Open Meteo](https://open-meteo.com/en/docs)\n"
   ]
  },
  {
   "cell_type": "markdown",
   "id": "04224dc9",
   "metadata": {},
   "source": [
    "## <span style='color:#ff5f27'> 🌍 STEP 9: Download the Historical Weather Data </span>\n",
    "\n",
    "https://open-meteo.com/en/docs/historical-weather-api#hourly=&daily=temperature_2m_mean,precipitation_sum,wind_speed_10m_max,wind_direction_10m_dominant\n",
    "\n",
    "We will download the historical weather data for your `city` by first extracting the earliest date from your DataFrame containing the historical air quality measurements.\n",
    "\n",
    "We will download all daily historical weather data measurements for your `city` from the earliest date in your air quality measurement DataFrame. It doesn't matter if there are missing days of air quality measurements. We can store all of the daily weather measurements, and when we build our training dataset, we will join up the air quality measurements for a given day to its weather features for that day.\n",
    "\n",
    "The weather features we will download are:\n",
    "\n",
    "- `temperature (average over the day)`\n",
    "- `precipitation (the total over the day)`\n",
    "- `wind speed (average over the day)`\n",
    "- `wind direction (the most dominant direction over the day)`\n"
   ]
  },
  {
   "cell_type": "code",
   "execution_count": null,
   "id": "9c8043a4",
   "metadata": {},
   "outputs": [
    {
     "name": "stdout",
     "output_type": "stream",
     "text": [
      "Coordinates 6.2917399406433105°N -75.69036865234375°E\n",
      "Elevation 1570.0 m asl\n",
      "Timezone None None\n",
      "Timezone difference to GMT+0 0 s\n"
     ]
    }
   ],
   "source": [
    "earliest_aq_date = pd.Series.min(df_aq[\"date\"])\n",
    "earliest_aq_date = earliest_aq_date.strftime(\"%Y-%m-%d\")\n",
    "\n",
    "weather_df = util.get_historical_weather(city, earliest_aq_date, str(today), latitude, longitude)"
   ]
  },
  {
   "cell_type": "code",
   "execution_count": null,
   "id": "692b2f05",
   "metadata": {},
   "outputs": [
    {
     "name": "stdout",
     "output_type": "stream",
     "text": [
      "<class 'pandas.core.frame.DataFrame'>\n",
      "Index: 1980 entries, 0 to 1979\n",
      "Data columns (total 6 columns):\n",
      " #   Column                       Non-Null Count  Dtype         \n",
      "---  ------                       --------------  -----         \n",
      " 0   date                         1980 non-null   datetime64[ns]\n",
      " 1   temperature_2m_mean          1980 non-null   float32       \n",
      " 2   precipitation_sum            1980 non-null   float32       \n",
      " 3   wind_speed_10m_max           1980 non-null   float32       \n",
      " 4   wind_direction_10m_dominant  1980 non-null   float32       \n",
      " 5   city                         1980 non-null   object        \n",
      "dtypes: datetime64[ns](1), float32(4), object(1)\n",
      "memory usage: 77.3+ KB\n"
     ]
    }
   ],
   "source": [
    "weather_df.info()"
   ]
  },
  {
   "cell_type": "code",
   "execution_count": null,
   "id": "4cdce3e3",
   "metadata": {},
   "outputs": [
    {
     "data": {
      "text/html": [
       "<div>\n",
       "<style scoped>\n",
       "    .dataframe tbody tr th:only-of-type {\n",
       "        vertical-align: middle;\n",
       "    }\n",
       "\n",
       "    .dataframe tbody tr th {\n",
       "        vertical-align: top;\n",
       "    }\n",
       "\n",
       "    .dataframe thead th {\n",
       "        text-align: right;\n",
       "    }\n",
       "</style>\n",
       "<table border=\"1\" class=\"dataframe\">\n",
       "  <thead>\n",
       "    <tr style=\"text-align: right;\">\n",
       "      <th></th>\n",
       "      <th>date</th>\n",
       "      <th>temperature_2m_mean</th>\n",
       "      <th>precipitation_sum</th>\n",
       "      <th>wind_speed_10m_max</th>\n",
       "      <th>wind_direction_10m_dominant</th>\n",
       "      <th>city</th>\n",
       "    </tr>\n",
       "  </thead>\n",
       "  <tbody>\n",
       "    <tr>\n",
       "      <th>0</th>\n",
       "      <td>2019-12-15</td>\n",
       "      <td>18.322668</td>\n",
       "      <td>8.9</td>\n",
       "      <td>6.618519</td>\n",
       "      <td>48.224552</td>\n",
       "      <td>medellin</td>\n",
       "    </tr>\n",
       "    <tr>\n",
       "      <th>1</th>\n",
       "      <td>2019-12-16</td>\n",
       "      <td>19.126833</td>\n",
       "      <td>6.3</td>\n",
       "      <td>9.360000</td>\n",
       "      <td>76.253380</td>\n",
       "      <td>medellin</td>\n",
       "    </tr>\n",
       "    <tr>\n",
       "      <th>2</th>\n",
       "      <td>2019-12-17</td>\n",
       "      <td>18.935167</td>\n",
       "      <td>5.4</td>\n",
       "      <td>8.049845</td>\n",
       "      <td>71.833992</td>\n",
       "      <td>medellin</td>\n",
       "    </tr>\n",
       "    <tr>\n",
       "      <th>3</th>\n",
       "      <td>2019-12-18</td>\n",
       "      <td>19.218500</td>\n",
       "      <td>2.2</td>\n",
       "      <td>7.235910</td>\n",
       "      <td>352.234863</td>\n",
       "      <td>medellin</td>\n",
       "    </tr>\n",
       "    <tr>\n",
       "      <th>4</th>\n",
       "      <td>2019-12-19</td>\n",
       "      <td>19.410166</td>\n",
       "      <td>0.6</td>\n",
       "      <td>8.287822</td>\n",
       "      <td>64.303047</td>\n",
       "      <td>medellin</td>\n",
       "    </tr>\n",
       "  </tbody>\n",
       "</table>\n",
       "</div>"
      ],
      "text/plain": [
       "        date  temperature_2m_mean  precipitation_sum  wind_speed_10m_max  \\\n",
       "0 2019-12-15            18.322668                8.9            6.618519   \n",
       "1 2019-12-16            19.126833                6.3            9.360000   \n",
       "2 2019-12-17            18.935167                5.4            8.049845   \n",
       "3 2019-12-18            19.218500                2.2            7.235910   \n",
       "4 2019-12-19            19.410166                0.6            8.287822   \n",
       "\n",
       "   wind_direction_10m_dominant      city  \n",
       "0                    48.224552  medellin  \n",
       "1                    76.253380  medellin  \n",
       "2                    71.833992  medellin  \n",
       "3                   352.234863  medellin  \n",
       "4                    64.303047  medellin  "
      ]
     },
     "metadata": {},
     "output_type": "display_data"
    }
   ],
   "source": [
    "weather_df.head()"
   ]
  },
  {
   "cell_type": "markdown",
   "id": "9e1ce878",
   "metadata": {},
   "source": [
    "## <span style='color:#ff5f27'> 🌍 STEP 10: Define Data Validation Rules </span>\n",
    "\n",
    "We will validate the air quality measurements (`pm25` values) before we write them to Hopsworks.\n",
    "\n",
    "We define a data validation rule (an expectation in Great Expectations) that ensures that `pm25` values are not negative or above the max value available by the sensor.\n",
    "\n",
    "We will attach this expectation to the air quality feature group, so that we validate the `pm25` data every time we write a DataFrame to the feature group. We want to prevent garbage-in, garbage-out.\n"
   ]
  },
  {
   "cell_type": "code",
   "execution_count": null,
   "id": "20b79dca",
   "metadata": {},
   "outputs": [
    {
     "data": {
      "text/plain": [
       "{\"expectation_type\": \"expect_column_min_to_be_between\", \"kwargs\": {\"column\": \"pm25\", \"min_value\": -0.1, \"max_value\": 500.0, \"strict_min\": true}, \"meta\": {}}"
      ]
     },
     "metadata": {},
     "output_type": "display_data"
    }
   ],
   "source": [
    "import great_expectations as ge\n",
    "\n",
    "aq_expectation_suite = ge.core.ExpectationSuite(expectation_suite_name=\"aq_expectation_suite\")\n",
    "\n",
    "aq_expectation_suite.add_expectation(\n",
    "    ge.core.ExpectationConfiguration(\n",
    "        expectation_type=\"expect_column_min_to_be_between\",\n",
    "        kwargs={\n",
    "            \"column\": \"pm25\",\n",
    "            \"min_value\": -0.1,\n",
    "            \"max_value\": 500.0,\n",
    "            \"strict_min\": True,\n",
    "        },\n",
    "    )\n",
    ")"
   ]
  },
  {
   "cell_type": "markdown",
   "id": "7255b8a5",
   "metadata": {},
   "source": [
    "## Expectations for Weather Data\n",
    "\n",
    "Here, we define an expectation for 2 columns in our weather DataFrame - `precipitation_sum` and `wind_speed_10m_max`, where we expect both values to be greater than zero, but less than 1000.\n"
   ]
  },
  {
   "cell_type": "code",
   "execution_count": null,
   "id": "5c461c1d",
   "metadata": {},
   "outputs": [],
   "source": [
    "import great_expectations as ge\n",
    "\n",
    "weather_expectation_suite = ge.core.ExpectationSuite(\n",
    "    expectation_suite_name=\"weather_expectation_suite\"\n",
    ")\n",
    "\n",
    "\n",
    "def expect_greater_than_zero(col):\n",
    "    weather_expectation_suite.add_expectation(\n",
    "        ge.core.ExpectationConfiguration(\n",
    "            expectation_type=\"expect_column_min_to_be_between\",\n",
    "            kwargs={\n",
    "                \"column\": col,\n",
    "                \"min_value\": -0.1,\n",
    "                \"max_value\": 1000.0,\n",
    "                \"strict_min\": True,\n",
    "            },\n",
    "        )\n",
    "    )\n",
    "\n",
    "\n",
    "expect_greater_than_zero(\"precipitation_sum\")\n",
    "expect_greater_than_zero(\"wind_speed_10m_max\")"
   ]
  },
  {
   "cell_type": "markdown",
   "id": "1eb34e91",
   "metadata": {},
   "source": [
    "---\n"
   ]
  },
  {
   "cell_type": "markdown",
   "id": "bee7b721",
   "metadata": {},
   "source": [
    "### <span style=\"color:#ff5f27;\"> 🔮 STEP 11: Connect to Hopsworks and save the sensor country, city, street names as a secret</span>\n"
   ]
  },
  {
   "cell_type": "code",
   "execution_count": null,
   "id": "bc18e061",
   "metadata": {},
   "outputs": [],
   "source": [
    "fs = project.get_feature_store()"
   ]
  },
  {
   "cell_type": "markdown",
   "id": "b230fda1",
   "metadata": {},
   "source": [
    "#### Save country, city, street names as a secret\n",
    "\n",
    "These will be downloaded from Hopsworks later in the (1) daily feature pipeline and (2) the daily batch inference pipeline\n"
   ]
  },
  {
   "cell_type": "code",
   "execution_count": null,
   "id": "5fd59f37",
   "metadata": {},
   "outputs": [
    {
     "name": "stdout",
     "output_type": "stream",
     "text": [
      "No existing SENSOR_LOCATION_JSON secret or error deleting it\n",
      "Secret created successfully, explore it at https://c.app.hopsworks.ai:443/account/secrets\n"
     ]
    },
    {
     "data": {
      "text/plain": [
       "Secret('SENSOR_LOCATION_JSON', 'PRIVATE')"
      ]
     },
     "metadata": {},
     "output_type": "display_data"
    }
   ],
   "source": [
    "dict_obj = {\n",
    "    \"country\": country,\n",
    "    \"city\": city,\n",
    "    \"street\": street,\n",
    "    \"aqicn_url\": aqicn_url,\n",
    "    \"latitude\": latitude,\n",
    "    \"longitude\": longitude,\n",
    "}\n",
    "\n",
    "# Convert the dictionary to a JSON string\n",
    "str_dict = json.dumps(dict_obj)\n",
    "\n",
    "try:\n",
    "    # Replace any existing secret with the new value\n",
    "    secret = secrets.get_secret(\"SENSOR_LOCATION_JSON\")\n",
    "    secret.delete()\n",
    "    print(\"Replacing existing SENSOR_LOCATION_JSON\")\n",
    "except (hopsworks.RestAPIError, AttributeError):\n",
    "    print(\"No existing SENSOR_LOCATION_JSON secret or error deleting it\")\n",
    "\n",
    "secrets.create_secret(\"SENSOR_LOCATION_JSON\", str_dict)"
   ]
  },
  {
   "cell_type": "markdown",
   "id": "8f51029a",
   "metadata": {},
   "source": [
    "### <span style=\"color:#ff5f27;\"> 🔮 STEP 12: Create the Feature Groups and insert the DataFrames in them </span>\n"
   ]
  },
  {
   "cell_type": "markdown",
   "id": "6d737256",
   "metadata": {},
   "source": [
    "### <span style='color:#ff5f27'> 🌫 Air Quality Data\n",
    "\n",
    "1.  Provide a name, description, and version for the feature group.\n",
    "2.  Define the `primary_key`: we have to select which columns uniquely identify each row in the DataFrame - by providing them as the `primary_key`. Here, each air quality sensor measurement is uniquely identified by `country`, `street`, and `date`.\n",
    "3.  Define the `event_time`: We also define which column stores the timestamp or date for the row - `date`.\n",
    "4.  Attach any `expectation_suite` containing data validation rules\n"
   ]
  },
  {
   "cell_type": "code",
   "execution_count": null,
   "id": "5e56daf9",
   "metadata": {},
   "outputs": [],
   "source": [
    "air_quality_fg = fs.get_or_create_feature_group(\n",
    "    name=\"air_quality\",\n",
    "    description=\"Air Quality characteristics of each day\",\n",
    "    version=1,\n",
    "    primary_key=[\"city\", \"street\"],\n",
    "    event_time=\"date\",\n",
    "    expectation_suite=aq_expectation_suite,\n",
    ")"
   ]
  },
  {
   "cell_type": "markdown",
   "id": "91fd3975",
   "metadata": {},
   "source": [
    "#### Insert the DataFrame into the Feature Group\n"
   ]
  },
  {
   "cell_type": "code",
   "execution_count": null,
   "id": "460ba0a7",
   "metadata": {},
   "outputs": [
    {
     "name": "stdout",
     "output_type": "stream",
     "text": [
      "Feature Group created successfully, explore it at \n",
      "https://c.app.hopsworks.ai:443/p/1224891/fs/1211503/fg/1458858\n",
      "2025-05-18 10:14:27,114 INFO: \t1 expectation(s) included in expectation_suite.\n",
      "Validation succeeded.\n",
      "Validation Report saved successfully, explore a summary at https://c.app.hopsworks.ai:443/p/1224891/fs/1211503/fg/1458858\n"
     ]
    },
    {
     "name": "stderr",
     "output_type": "stream",
     "text": [
      "Uploading Dataframe: 100.00% |██████████| Rows 1936/1936 | Elapsed Time: 00:00 | Remaining Time: 00:00\n"
     ]
    },
    {
     "name": "stdout",
     "output_type": "stream",
     "text": [
      "Launching job: air_quality_1_offline_fg_materialization\n",
      "Job started successfully, you can follow the progress at \n",
      "https://c.app.hopsworks.ai:443/p/1224891/jobs/named/air_quality_1_offline_fg_materialization/executions\n"
     ]
    },
    {
     "data": {
      "text/plain": [
       "(Job('air_quality_1_offline_fg_materialization', 'SPARK'),\n",
       " {\n",
       "   \"success\": true,\n",
       "   \"results\": [\n",
       "     {\n",
       "       \"success\": true,\n",
       "       \"expectation_config\": {\n",
       "         \"expectation_type\": \"expect_column_min_to_be_between\",\n",
       "         \"kwargs\": {\n",
       "           \"column\": \"pm25\",\n",
       "           \"min_value\": -0.1,\n",
       "           \"max_value\": 500.0,\n",
       "           \"strict_min\": true\n",
       "         },\n",
       "         \"meta\": {\n",
       "           \"expectationId\": 709663\n",
       "         }\n",
       "       },\n",
       "       \"result\": {\n",
       "         \"observed_value\": 18.999998092651367,\n",
       "         \"element_count\": 1936,\n",
       "         \"missing_count\": null,\n",
       "         \"missing_percent\": null\n",
       "       },\n",
       "       \"meta\": {\n",
       "         \"ingestionResult\": \"INGESTED\",\n",
       "         \"validationTime\": \"2025-05-18T03:14:27.000114Z\"\n",
       "       },\n",
       "       \"exception_info\": {\n",
       "         \"raised_exception\": false,\n",
       "         \"exception_message\": null,\n",
       "         \"exception_traceback\": null\n",
       "       }\n",
       "     }\n",
       "   ],\n",
       "   \"evaluation_parameters\": {},\n",
       "   \"statistics\": {\n",
       "     \"evaluated_expectations\": 1,\n",
       "     \"successful_expectations\": 1,\n",
       "     \"unsuccessful_expectations\": 0,\n",
       "     \"success_percent\": 100.0\n",
       "   },\n",
       "   \"meta\": {\n",
       "     \"great_expectations_version\": \"0.18.12\",\n",
       "     \"expectation_suite_name\": \"aq_expectation_suite\",\n",
       "     \"run_id\": {\n",
       "       \"run_name\": null,\n",
       "       \"run_time\": \"2025-05-18T10:14:27.114788-05:00\"\n",
       "     },\n",
       "     \"batch_kwargs\": {\n",
       "       \"ge_batch_id\": \"c9edf79e-33fa-11f0-a0ab-f3f83112f314\"\n",
       "     },\n",
       "     \"batch_markers\": {},\n",
       "     \"batch_parameters\": {},\n",
       "     \"validation_time\": \"20250518T151427.114720Z\",\n",
       "     \"expectation_suite_meta\": {\n",
       "       \"great_expectations_version\": \"0.18.12\"\n",
       "     }\n",
       "   }\n",
       " })"
      ]
     },
     "metadata": {},
     "output_type": "display_data"
    }
   ],
   "source": [
    "air_quality_fg.insert(df_aq)"
   ]
  },
  {
   "cell_type": "markdown",
   "id": "035f0b62",
   "metadata": {},
   "source": [
    "#### Enter a description for each feature in the Feature Group\n"
   ]
  },
  {
   "cell_type": "code",
   "execution_count": null,
   "id": "a988a82a",
   "metadata": {},
   "outputs": [
    {
     "data": {
      "text/plain": [
       "<hsfs.feature_group.FeatureGroup at 0x741545502390>"
      ]
     },
     "metadata": {},
     "output_type": "display_data"
    }
   ],
   "source": [
    "air_quality_fg.update_feature_description(\"date\", \"Date of measurement of air quality\")\n",
    "air_quality_fg.update_feature_description(\n",
    "    \"country\",\n",
    "    \"Country where the air quality was measured (sometimes a city in acqcn.org)\",\n",
    ")\n",
    "air_quality_fg.update_feature_description(\"city\", \"City where the air quality was measured\")\n",
    "air_quality_fg.update_feature_description(\n",
    "    \"street\", \"Street in the city where the air quality was measured\"\n",
    ")\n",
    "air_quality_fg.update_feature_description(\n",
    "    \"pm25\",\n",
    "    \"Particles less than 2.5 micrometers in diameter (fine particles) pose health risk\",\n",
    ")"
   ]
  },
  {
   "cell_type": "markdown",
   "id": "51cbdf91",
   "metadata": {},
   "source": [
    "### <span style='color:#ff5f27'> 🌦 Weather Data\n",
    "\n",
    "1.  Provide a name, description, and version for the feature group.\n",
    "2.  Define the `primary_key`: we have to select which columns uniquely identify each row in the DataFrame - by providing them as the `primary_key`. Here, each weather measurement is uniquely identified by `city` and `date`.\n",
    "3.  Define the `event_time`: We also define which column stores the timestamp or date for the row - `date`.\n",
    "4.  Attach any `expectation_suite` containing data validation rules\n"
   ]
  },
  {
   "cell_type": "code",
   "execution_count": null,
   "id": "b2565d14",
   "metadata": {},
   "outputs": [],
   "source": [
    "# Get or create feature group\n",
    "weather_fg = fs.get_or_create_feature_group(\n",
    "    name=\"weather\",\n",
    "    description=\"Weather characteristics of each day\",\n",
    "    version=1,\n",
    "    primary_key=[\"city\"],\n",
    "    event_time=\"date\",\n",
    "    expectation_suite=weather_expectation_suite,\n",
    ")"
   ]
  },
  {
   "cell_type": "markdown",
   "id": "5d102faf",
   "metadata": {},
   "source": [
    "#### Insert the DataFrame into the Feature Group\n"
   ]
  },
  {
   "cell_type": "code",
   "execution_count": null,
   "id": "a532fb51",
   "metadata": {},
   "outputs": [
    {
     "name": "stdout",
     "output_type": "stream",
     "text": [
      "Feature Group created successfully, explore it at \n",
      "https://c.app.hopsworks.ai:443/p/1224891/fs/1211503/fg/1458859\n",
      "2025-05-18 10:15:22,473 INFO: \t2 expectation(s) included in expectation_suite.\n",
      "Validation succeeded.\n",
      "Validation Report saved successfully, explore a summary at https://c.app.hopsworks.ai:443/p/1224891/fs/1211503/fg/1458859\n"
     ]
    },
    {
     "name": "stderr",
     "output_type": "stream",
     "text": [
      "Uploading Dataframe: 100.00% |██████████| Rows 1980/1980 | Elapsed Time: 00:01 | Remaining Time: 00:00\n"
     ]
    },
    {
     "name": "stdout",
     "output_type": "stream",
     "text": [
      "Launching job: weather_1_offline_fg_materialization\n",
      "Job started successfully, you can follow the progress at \n",
      "https://c.app.hopsworks.ai:443/p/1224891/jobs/named/weather_1_offline_fg_materialization/executions\n",
      "2025-05-18 10:15:38,866 INFO: Waiting for execution to finish. Current state: SUBMITTED. Final status: UNDEFINED\n",
      "2025-05-18 10:15:48,351 INFO: Waiting for execution to finish. Current state: RUNNING. Final status: UNDEFINED\n",
      "2025-05-18 10:17:47,325 INFO: Waiting for execution to finish. Current state: SUCCEEDING. Final status: UNDEFINED\n",
      "2025-05-18 10:17:50,573 INFO: Waiting for execution to finish. Current state: AGGREGATING_LOGS. Final status: SUCCEEDED\n",
      "2025-05-18 10:17:50,777 INFO: Waiting for log aggregation to finish.\n",
      "2025-05-18 10:18:12,720 INFO: Execution finished successfully.\n"
     ]
    },
    {
     "data": {
      "text/plain": [
       "(Job('weather_1_offline_fg_materialization', 'SPARK'),\n",
       " {\n",
       "   \"success\": true,\n",
       "   \"results\": [\n",
       "     {\n",
       "       \"success\": true,\n",
       "       \"expectation_config\": {\n",
       "         \"expectation_type\": \"expect_column_min_to_be_between\",\n",
       "         \"kwargs\": {\n",
       "           \"column\": \"precipitation_sum\",\n",
       "           \"min_value\": -0.1,\n",
       "           \"max_value\": 1000.0,\n",
       "           \"strict_min\": true\n",
       "         },\n",
       "         \"meta\": {\n",
       "           \"expectationId\": 709664\n",
       "         }\n",
       "       },\n",
       "       \"result\": {\n",
       "         \"observed_value\": 0.0,\n",
       "         \"element_count\": 1980,\n",
       "         \"missing_count\": null,\n",
       "         \"missing_percent\": null\n",
       "       },\n",
       "       \"meta\": {\n",
       "         \"ingestionResult\": \"INGESTED\",\n",
       "         \"validationTime\": \"2025-05-18T03:15:22.000473Z\"\n",
       "       },\n",
       "       \"exception_info\": {\n",
       "         \"raised_exception\": false,\n",
       "         \"exception_message\": null,\n",
       "         \"exception_traceback\": null\n",
       "       }\n",
       "     },\n",
       "     {\n",
       "       \"success\": true,\n",
       "       \"expectation_config\": {\n",
       "         \"expectation_type\": \"expect_column_min_to_be_between\",\n",
       "         \"kwargs\": {\n",
       "           \"column\": \"wind_speed_10m_max\",\n",
       "           \"min_value\": -0.1,\n",
       "           \"max_value\": 1000.0,\n",
       "           \"strict_min\": true\n",
       "         },\n",
       "         \"meta\": {\n",
       "           \"expectationId\": 709665\n",
       "         }\n",
       "       },\n",
       "       \"result\": {\n",
       "         \"observed_value\": 3.6712939739227295,\n",
       "         \"element_count\": 1980,\n",
       "         \"missing_count\": null,\n",
       "         \"missing_percent\": null\n",
       "       },\n",
       "       \"meta\": {\n",
       "         \"ingestionResult\": \"INGESTED\",\n",
       "         \"validationTime\": \"2025-05-18T03:15:22.000473Z\"\n",
       "       },\n",
       "       \"exception_info\": {\n",
       "         \"raised_exception\": false,\n",
       "         \"exception_message\": null,\n",
       "         \"exception_traceback\": null\n",
       "       }\n",
       "     }\n",
       "   ],\n",
       "   \"evaluation_parameters\": {},\n",
       "   \"statistics\": {\n",
       "     \"evaluated_expectations\": 2,\n",
       "     \"successful_expectations\": 2,\n",
       "     \"unsuccessful_expectations\": 0,\n",
       "     \"success_percent\": 100.0\n",
       "   },\n",
       "   \"meta\": {\n",
       "     \"great_expectations_version\": \"0.18.12\",\n",
       "     \"expectation_suite_name\": \"weather_expectation_suite\",\n",
       "     \"run_id\": {\n",
       "       \"run_name\": null,\n",
       "       \"run_time\": \"2025-05-18T10:15:22.473074-05:00\"\n",
       "     },\n",
       "     \"batch_kwargs\": {\n",
       "       \"ge_batch_id\": \"eaecfa12-33fa-11f0-a0ab-f3f83112f314\"\n",
       "     },\n",
       "     \"batch_markers\": {},\n",
       "     \"batch_parameters\": {},\n",
       "     \"validation_time\": \"20250518T151522.473012Z\",\n",
       "     \"expectation_suite_meta\": {\n",
       "       \"great_expectations_version\": \"0.18.12\"\n",
       "     }\n",
       "   }\n",
       " })"
      ]
     },
     "metadata": {},
     "output_type": "display_data"
    }
   ],
   "source": [
    "# Insert data\n",
    "weather_fg.insert(weather_df, wait=True)"
   ]
  },
  {
   "cell_type": "markdown",
   "id": "86c9e9ea",
   "metadata": {},
   "source": [
    "#### Enter a description for each feature in the Feature Group\n"
   ]
  },
  {
   "cell_type": "code",
   "execution_count": null,
   "id": "8b49959b",
   "metadata": {},
   "outputs": [
    {
     "data": {
      "text/plain": [
       "<hsfs.feature_group.FeatureGroup at 0x7415442c6b90>"
      ]
     },
     "metadata": {},
     "output_type": "display_data"
    }
   ],
   "source": [
    "weather_fg.update_feature_description(\"date\", \"Date of measurement of weather\")\n",
    "weather_fg.update_feature_description(\"city\", \"City where weather is measured/forecast for\")\n",
    "weather_fg.update_feature_description(\"temperature_2m_mean\", \"Temperature in Celsius\")\n",
    "weather_fg.update_feature_description(\"precipitation_sum\", \"Precipitation (rain/snow) in mm\")\n",
    "weather_fg.update_feature_description(\"wind_speed_10m_max\", \"Wind speed at 10m abouve ground\")\n",
    "weather_fg.update_feature_description(\n",
    "    \"wind_direction_10m_dominant\", \"Dominant Wind direction over the dayd\"\n",
    ")"
   ]
  },
  {
   "cell_type": "markdown",
   "id": "9921baf2",
   "metadata": {},
   "source": [
    "## <span style=\"color:#ff5f27;\">⏭️ **Next:** Part 02: Daily Feature Pipeline\n",
    "\n",
    " </span>\n"
   ]
  },
  {
   "cell_type": "markdown",
   "id": "651d78b4",
   "metadata": {},
   "source": [
    "## <span style=\"color:#ff5f27;\">⏭️ **Exercises:**\n",
    "\n",
    " </span>\n",
    "\n",
    "Extra Homework:\n",
    "\n",
    "- Try adding a new feature based on a rolling window of 3 days for 'pm25'\n",
    "  - This is not easy, as forecasting more than 1 day in the future, you won't have the previous 3 days of pm25 measurements.\n",
    "  - df.set_index(\"date\").rolling(3).mean() is only the start....\n",
    "- Parameterize the notebook, so that you can provide the `country`/`street`/`city`/`url`/`csv_file` as parameters.\n",
    "  - Hint: this will also require making the secret name (`SENSOR_LOCATION_JSON`), e.g., add the street name as part of the secret name. Then you have to pass that secret name as a parameter when running the operational feature pipeline and batch inference pipelines.\n",
    "  - After you have done this, collect the street/city/url/csv files for all the sensors in your city or region and you make dashboards for all of the air quality sensors in your city/region. You could even then add a dashboard for your city/region, as done [here for Poland](https://github.com/erno98/ID2223).\n",
    "\n",
    "Improve this AI System\n",
    "\n",
    "- As of mid 2024, there is no API call available to download historical data from the AQIN website. You could improve this system by writing a PR to download the CSV file using Python Selenium and the URL for the sensor.\n"
   ]
  },
  {
   "cell_type": "markdown",
   "id": "c580e1c8",
   "metadata": {},
   "source": [
    "---\n"
   ]
  }
 ],
 "metadata": {
  "kernelspec": {
   "display_name": ".venv",
   "language": "python",
   "name": "python3"
  },
  "language_info": {
   "codemirror_mode": {
    "name": "ipython",
    "version": 3
   },
   "file_extension": ".py",
   "mimetype": "text/x-python",
   "name": "python",
   "nbconvert_exporter": "python",
   "pygments_lexer": "ipython3",
   "version": "3.11.12"
  }
 },
 "nbformat": 4,
 "nbformat_minor": 5
}
