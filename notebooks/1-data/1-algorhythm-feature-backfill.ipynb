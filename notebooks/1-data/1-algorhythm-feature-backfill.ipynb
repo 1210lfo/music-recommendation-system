{
 "cells": [
  {
   "cell_type": "markdown",
   "id": "022fd25c",
   "metadata": {},
   "source": []
  },
  {
   "cell_type": "code",
   "execution_count": 1,
   "id": "2e96872d",
   "metadata": {},
   "outputs": [
    {
     "name": "stdout",
     "output_type": "stream",
     "text": [
      "Requirement already satisfied: confluent-kafka>=2.3.0 in /Users/simon/Documents/music-recommendation-system/.venv/lib/python3.11/site-packages (2.10.0)\n",
      "\n",
      "\u001b[1m[\u001b[0m\u001b[34;49mnotice\u001b[0m\u001b[1;39;49m]\u001b[0m\u001b[39;49m A new release of pip is available: \u001b[0m\u001b[31;49m24.0\u001b[0m\u001b[39;49m -> \u001b[0m\u001b[32;49m25.1.1\u001b[0m\n",
      "\u001b[1m[\u001b[0m\u001b[34;49mnotice\u001b[0m\u001b[1;39;49m]\u001b[0m\u001b[39;49m To update, run: \u001b[0m\u001b[32;49mpip3 install --upgrade pip\u001b[0m\n",
      "Note: you may need to restart the kernel to use updated packages.\n",
      "Requirement already satisfied: hopsworks in /Users/simon/Documents/music-recommendation-system/.venv/lib/python3.11/site-packages (4.2.6)\n",
      "Requirement already satisfied: pyhumps==1.6.1 in /Users/simon/Documents/music-recommendation-system/.venv/lib/python3.11/site-packages (from hopsworks) (1.6.1)\n",
      "Requirement already satisfied: requests in /Users/simon/Documents/music-recommendation-system/.venv/lib/python3.11/site-packages (from hopsworks) (2.32.3)\n",
      "Requirement already satisfied: furl in /Users/simon/Documents/music-recommendation-system/.venv/lib/python3.11/site-packages (from hopsworks) (2.1.4)\n",
      "Requirement already satisfied: boto3 in /Users/simon/Documents/music-recommendation-system/.venv/lib/python3.11/site-packages (from hopsworks) (1.38.27)\n",
      "Requirement already satisfied: pandas<2.2.0 in /Users/simon/Documents/music-recommendation-system/.venv/lib/python3.11/site-packages (from hopsworks) (2.1.4)\n",
      "Requirement already satisfied: pyjks in /Users/simon/Documents/music-recommendation-system/.venv/lib/python3.11/site-packages (from hopsworks) (20.0.0)\n",
      "Requirement already satisfied: mock in /Users/simon/Documents/music-recommendation-system/.venv/lib/python3.11/site-packages (from hopsworks) (5.2.0)\n",
      "Requirement already satisfied: avro==1.11.3 in /Users/simon/Documents/music-recommendation-system/.venv/lib/python3.11/site-packages (from hopsworks) (1.11.3)\n",
      "Requirement already satisfied: sqlalchemy in /Users/simon/Documents/music-recommendation-system/.venv/lib/python3.11/site-packages (from hopsworks) (2.0.29)\n",
      "Requirement already satisfied: PyMySQL[rsa] in /Users/simon/Documents/music-recommendation-system/.venv/lib/python3.11/site-packages (from hopsworks) (1.1.1)\n",
      "Requirement already satisfied: tzlocal in /Users/simon/Documents/music-recommendation-system/.venv/lib/python3.11/site-packages (from hopsworks) (5.3.1)\n",
      "Requirement already satisfied: fsspec in /Users/simon/Documents/music-recommendation-system/.venv/lib/python3.11/site-packages (from hopsworks) (2025.5.1)\n",
      "Requirement already satisfied: retrying in /Users/simon/Documents/music-recommendation-system/.venv/lib/python3.11/site-packages (from hopsworks) (1.3.4)\n",
      "Requirement already satisfied: hopsworks_aiomysql==0.2.1 in /Users/simon/Documents/music-recommendation-system/.venv/lib/python3.11/site-packages (from hopsworks_aiomysql[sa]==0.2.1->hopsworks) (0.2.1)\n",
      "Requirement already satisfied: opensearch-py<=2.4.2,>=1.1.0 in /Users/simon/Documents/music-recommendation-system/.venv/lib/python3.11/site-packages (from hopsworks) (2.4.2)\n",
      "Requirement already satisfied: tqdm in /Users/simon/Documents/music-recommendation-system/.venv/lib/python3.11/site-packages (from hopsworks) (4.67.1)\n",
      "Requirement already satisfied: grpcio<2.0.0,>=1.49.1 in /Users/simon/Documents/music-recommendation-system/.venv/lib/python3.11/site-packages (from hopsworks) (1.71.0)\n",
      "Requirement already satisfied: protobuf<5.0.0,>=4.25.4 in /Users/simon/Documents/music-recommendation-system/.venv/lib/python3.11/site-packages (from hopsworks) (4.25.8)\n",
      "Requirement already satisfied: packaging in /Users/simon/Documents/music-recommendation-system/.venv/lib/python3.11/site-packages (from hopsworks) (25.0)\n",
      "Requirement already satisfied: urllib3>=1.26.18 in /Users/simon/Documents/music-recommendation-system/.venv/lib/python3.11/site-packages (from opensearch-py<=2.4.2,>=1.1.0->hopsworks) (2.4.0)\n",
      "Requirement already satisfied: six in /Users/simon/Documents/music-recommendation-system/.venv/lib/python3.11/site-packages (from opensearch-py<=2.4.2,>=1.1.0->hopsworks) (1.17.0)\n",
      "Requirement already satisfied: python-dateutil in /Users/simon/Documents/music-recommendation-system/.venv/lib/python3.11/site-packages (from opensearch-py<=2.4.2,>=1.1.0->hopsworks) (2.9.0.post0)\n",
      "Requirement already satisfied: certifi>=2022.12.07 in /Users/simon/Documents/music-recommendation-system/.venv/lib/python3.11/site-packages (from opensearch-py<=2.4.2,>=1.1.0->hopsworks) (2025.4.26)\n",
      "Requirement already satisfied: numpy<2,>=1.23.2 in /Users/simon/Documents/music-recommendation-system/.venv/lib/python3.11/site-packages (from pandas<2.2.0->hopsworks) (1.26.4)\n",
      "Requirement already satisfied: pytz>=2020.1 in /Users/simon/Documents/music-recommendation-system/.venv/lib/python3.11/site-packages (from pandas<2.2.0->hopsworks) (2025.2)\n",
      "Requirement already satisfied: tzdata>=2022.1 in /Users/simon/Documents/music-recommendation-system/.venv/lib/python3.11/site-packages (from pandas<2.2.0->hopsworks) (2025.2)\n",
      "Requirement already satisfied: charset-normalizer<4,>=2 in /Users/simon/Documents/music-recommendation-system/.venv/lib/python3.11/site-packages (from requests->hopsworks) (3.4.2)\n",
      "Requirement already satisfied: idna<4,>=2.5 in /Users/simon/Documents/music-recommendation-system/.venv/lib/python3.11/site-packages (from requests->hopsworks) (3.10)\n",
      "Requirement already satisfied: typing-extensions>=4.6.0 in /Users/simon/Documents/music-recommendation-system/.venv/lib/python3.11/site-packages (from sqlalchemy->hopsworks) (4.13.2)\n",
      "Requirement already satisfied: botocore<1.39.0,>=1.38.27 in /Users/simon/Documents/music-recommendation-system/.venv/lib/python3.11/site-packages (from boto3->hopsworks) (1.38.27)\n",
      "Requirement already satisfied: jmespath<2.0.0,>=0.7.1 in /Users/simon/Documents/music-recommendation-system/.venv/lib/python3.11/site-packages (from boto3->hopsworks) (1.0.1)\n",
      "Requirement already satisfied: s3transfer<0.14.0,>=0.13.0 in /Users/simon/Documents/music-recommendation-system/.venv/lib/python3.11/site-packages (from boto3->hopsworks) (0.13.0)\n",
      "Requirement already satisfied: orderedmultidict>=1.0.1 in /Users/simon/Documents/music-recommendation-system/.venv/lib/python3.11/site-packages (from furl->hopsworks) (1.0.1)\n",
      "Requirement already satisfied: javaobj-py3 in /Users/simon/Documents/music-recommendation-system/.venv/lib/python3.11/site-packages (from pyjks->hopsworks) (0.4.4)\n",
      "Requirement already satisfied: pyasn1>=0.3.5 in /Users/simon/Documents/music-recommendation-system/.venv/lib/python3.11/site-packages (from pyjks->hopsworks) (0.6.1)\n",
      "Requirement already satisfied: pyasn1-modules in /Users/simon/Documents/music-recommendation-system/.venv/lib/python3.11/site-packages (from pyjks->hopsworks) (0.4.2)\n",
      "Requirement already satisfied: pycryptodomex in /Users/simon/Documents/music-recommendation-system/.venv/lib/python3.11/site-packages (from pyjks->hopsworks) (3.23.0)\n",
      "Requirement already satisfied: twofish in /Users/simon/Documents/music-recommendation-system/.venv/lib/python3.11/site-packages (from pyjks->hopsworks) (0.3.0)\n",
      "Requirement already satisfied: cryptography in /Users/simon/Documents/music-recommendation-system/.venv/lib/python3.11/site-packages (from PyMySQL[rsa]->hopsworks) (45.0.3)\n",
      "Requirement already satisfied: cffi>=1.14 in /Users/simon/Documents/music-recommendation-system/.venv/lib/python3.11/site-packages (from cryptography->PyMySQL[rsa]->hopsworks) (1.17.1)\n",
      "Requirement already satisfied: pycparser in /Users/simon/Documents/music-recommendation-system/.venv/lib/python3.11/site-packages (from cffi>=1.14->cryptography->PyMySQL[rsa]->hopsworks) (2.22)\n",
      "\n",
      "\u001b[1m[\u001b[0m\u001b[34;49mnotice\u001b[0m\u001b[1;39;49m]\u001b[0m\u001b[39;49m A new release of pip is available: \u001b[0m\u001b[31;49m24.0\u001b[0m\u001b[39;49m -> \u001b[0m\u001b[32;49m25.1.1\u001b[0m\n",
      "\u001b[1m[\u001b[0m\u001b[34;49mnotice\u001b[0m\u001b[1;39;49m]\u001b[0m\u001b[39;49m To update, run: \u001b[0m\u001b[32;49mpip3 install --upgrade pip\u001b[0m\n",
      "Note: you may need to restart the kernel to use updated packages.\n",
      "\u001b[2K\u001b[2mResolved \u001b[1m162 packages\u001b[0m \u001b[2min 867ms\u001b[0m\u001b[0m                                       \u001b[0m\n",
      "\u001b[2K\u001b[37m⠹\u001b[0m \u001b[2mPreparing packages...\u001b[0m (0/1)                                                   \u001b[37m⠋\u001b[0m \u001b[2mPreparing packages...\u001b[0m (0/0)                                                   \n",
      "\u001b[2K\u001b[1A\u001b[37m⠹\u001b[0m \u001b[2mPreparing packages...\u001b[0m (0/1)--------------\u001b[0m\u001b[0m     0 B/7.71 MiB            \u001b[1A\n",
      "\u001b[2K\u001b[1A\u001b[37m⠹\u001b[0m \u001b[2mPreparing packages...\u001b[0m (0/1)--------------\u001b[0m\u001b[0m 16.00 KiB/7.71 MiB          \u001b[1A\n",
      "\u001b[2K\u001b[1A\u001b[37m⠹\u001b[0m \u001b[2mPreparing packages...\u001b[0m (0/1)--------------\u001b[0m\u001b[0m 32.00 KiB/7.71 MiB          \u001b[1A\n",
      "\u001b[2K\u001b[1A\u001b[37m⠹\u001b[0m \u001b[2mPreparing packages...\u001b[0m (0/1)--------------\u001b[0m\u001b[0m 48.00 KiB/7.71 MiB          \u001b[1A\n",
      "\u001b[2K\u001b[1A\u001b[37m⠹\u001b[0m \u001b[2mPreparing packages...\u001b[0m (0/1)--------------\u001b[0m\u001b[0m 60.57 KiB/7.71 MiB          \u001b[1A\n",
      "\u001b[2K\u001b[1A\u001b[37m⠹\u001b[0m \u001b[2mPreparing packages...\u001b[0m (0/1)--------------\u001b[0m\u001b[0m 76.57 KiB/7.71 MiB          \u001b[1A\n",
      "\u001b[2K\u001b[1A\u001b[37m⠹\u001b[0m \u001b[2mPreparing packages...\u001b[0m (0/1)--------------\u001b[0m\u001b[0m 92.57 KiB/7.71 MiB          \u001b[1A\n",
      "\u001b[2K\u001b[1A\u001b[37m⠹\u001b[0m \u001b[2mPreparing packages...\u001b[0m (0/1)--------------\u001b[0m\u001b[0m 108.57 KiB/7.71 MiB         \u001b[1A\n",
      "\u001b[2K\u001b[1A\u001b[37m⠹\u001b[0m \u001b[2mPreparing packages...\u001b[0m (0/1)--------------\u001b[0m\u001b[0m 124.57 KiB/7.71 MiB         \u001b[1A\n",
      "\u001b[2K\u001b[1A\u001b[37m⠹\u001b[0m \u001b[2mPreparing packages...\u001b[0m (0/1)--------------\u001b[0m\u001b[0m 140.57 KiB/7.71 MiB         \u001b[1A\n",
      "\u001b[2K\u001b[1A\u001b[37m⠹\u001b[0m \u001b[2mPreparing packages...\u001b[0m (0/1)--------------\u001b[0m\u001b[0m 156.57 KiB/7.71 MiB         \u001b[1A\n",
      "\u001b[2K\u001b[1A\u001b[37m⠹\u001b[0m \u001b[2mPreparing packages...\u001b[0m (0/1)--------------\u001b[0m\u001b[0m 172.57 KiB/7.71 MiB         \u001b[1A\n",
      "\u001b[2K\u001b[1A\u001b[37m⠹\u001b[0m \u001b[2mPreparing packages...\u001b[0m (0/1)--------------\u001b[0m\u001b[0m 188.57 KiB/7.71 MiB         \u001b[1A\n",
      "\u001b[2K\u001b[1A\u001b[37m⠹\u001b[0m \u001b[2mPreparing packages...\u001b[0m (0/1)--------------\u001b[0m\u001b[0m 204.57 KiB/7.71 MiB         \u001b[1A\n",
      "\u001b[2K\u001b[1A\u001b[37m⠹\u001b[0m \u001b[2mPreparing packages...\u001b[0m (0/1)--------------\u001b[0m\u001b[0m 220.57 KiB/7.71 MiB         \u001b[1A\n",
      "\u001b[2K\u001b[1A\u001b[37m⠹\u001b[0m \u001b[2mPreparing packages...\u001b[0m (0/1)--------------\u001b[0m\u001b[0m 236.57 KiB/7.71 MiB         \u001b[1A\n",
      "\u001b[2K\u001b[1A\u001b[37m⠹\u001b[0m \u001b[2mPreparing packages...\u001b[0m (0/1)--------------\u001b[0m\u001b[0m 252.57 KiB/7.71 MiB         \u001b[1A\n",
      "\u001b[2K\u001b[1A\u001b[37m⠸\u001b[0m \u001b[2mPreparing packages...\u001b[0m (0/1)--------------\u001b[0m\u001b[0m 268.57 KiB/7.71 MiB         \u001b[1A\n",
      "\u001b[2K\u001b[1A\u001b[37m⠸\u001b[0m \u001b[2mPreparing packages...\u001b[0m (0/1)--------------\u001b[0m\u001b[0m 268.57 KiB/7.71 MiB         \u001b[1A\n",
      "\u001b[2K\u001b[1A\u001b[37m⠸\u001b[0m \u001b[2mPreparing packages...\u001b[0m (0/1)--------------\u001b[0m\u001b[0m 284.57 KiB/7.71 MiB         \u001b[1A\n",
      "\u001b[2K\u001b[1A\u001b[37m⠸\u001b[0m \u001b[2mPreparing packages...\u001b[0m (0/1)--------------\u001b[0m\u001b[0m 300.57 KiB/7.71 MiB         \u001b[1A\n",
      "\u001b[2K\u001b[1A\u001b[37m⠸\u001b[0m \u001b[2mPreparing packages...\u001b[0m (0/1)--------------\u001b[0m\u001b[0m 316.57 KiB/7.71 MiB         \u001b[1A\n",
      "\u001b[2K\u001b[1A\u001b[37m⠸\u001b[0m \u001b[2mPreparing packages...\u001b[0m (0/1)--------------\u001b[0m\u001b[0m 332.57 KiB/7.71 MiB         \u001b[1A\n",
      "\u001b[2K\u001b[1A\u001b[37m⠸\u001b[0m \u001b[2mPreparing packages...\u001b[0m (0/1)--------------\u001b[0m\u001b[0m 348.57 KiB/7.71 MiB         \u001b[1A\n",
      "\u001b[2K\u001b[1A\u001b[37m⠸\u001b[0m \u001b[2mPreparing packages...\u001b[0m (0/1)--------------\u001b[0m\u001b[0m 540.57 KiB/7.71 MiB         \u001b[1A\n",
      "\u001b[2K\u001b[1A\u001b[37m⠸\u001b[0m \u001b[2mPreparing packages...\u001b[0m (0/1)--------------\u001b[0m\u001b[0m 812.57 KiB/7.71 MiB         \u001b[1A\n",
      "\u001b[2K\u001b[1A\u001b[37m⠼\u001b[0m \u001b[2mPreparing packages...\u001b[0m (0/1)--------------\u001b[0m\u001b[0m 1.26 MiB/7.71 MiB           \u001b[1A\n",
      "\u001b[2K\u001b[1A\u001b[37m⠼\u001b[0m \u001b[2mPreparing packages...\u001b[0m (0/1)--------------\u001b[0m\u001b[0m 2.40 MiB/7.71 MiB           \u001b[1A\n",
      "\u001b[2K\u001b[1A\u001b[37m⠼\u001b[0m \u001b[2mPreparing packages...\u001b[0m (0/1)--------------\u001b[0m\u001b[0m 3.35 MiB/7.71 MiB           \u001b[1A\n",
      "\u001b[2K\u001b[1A\u001b[37m⠼\u001b[0m \u001b[2mPreparing packages...\u001b[0m (0/1)m-------------\u001b[0m\u001b[0m 4.31 MiB/7.71 MiB           \u001b[1A\n",
      "\u001b[2K\u001b[1A\u001b[37m⠼\u001b[0m \u001b[2mPreparing packages...\u001b[0m (0/1)\u001b[2m----------\u001b[0m\u001b[0m 5.00 MiB/7.71 MiB           \u001b[1A\n",
      "\u001b[2K\u001b[1A\u001b[37m⠴\u001b[0m \u001b[2mPreparing packages...\u001b[0m (0/1)-\u001b[2m---------\u001b[0m\u001b[0m 5.32 MiB/7.71 MiB           \u001b[1A\n",
      "\u001b[2K\u001b[1A\u001b[37m⠴\u001b[0m \u001b[2mPreparing packages...\u001b[0m (0/1)-------\u001b[2m---\u001b[0m\u001b[0m 6.72 MiB/7.71 MiB           \u001b[1A\n",
      "\u001b[2K\u001b[2mPrepared \u001b[1m1 package\u001b[0m \u001b[2min 911ms\u001b[0m\u001b[0m                                                  \u001b[1A\n",
      "\u001b[2mUninstalled \u001b[1m5 packages\u001b[0m \u001b[2min 504ms\u001b[0m\u001b[0m\n",
      "\u001b[2K\u001b[2mInstalled \u001b[1m116 packages\u001b[0m \u001b[2min 803ms\u001b[0m\u001b[0m                             \u001b[0m\n",
      " \u001b[32m+\u001b[39m \u001b[1mannotated-types\u001b[0m\u001b[2m==0.7.0\u001b[0m\n",
      " \u001b[32m+\u001b[39m \u001b[1manyio\u001b[0m\u001b[2m==4.9.0\u001b[0m\n",
      " \u001b[32m+\u001b[39m \u001b[1margon2-cffi\u001b[0m\u001b[2m==23.1.0\u001b[0m\n",
      " \u001b[32m+\u001b[39m \u001b[1margon2-cffi-bindings\u001b[0m\u001b[2m==21.2.0\u001b[0m\n",
      " \u001b[32m+\u001b[39m \u001b[1marrow\u001b[0m\u001b[2m==1.3.0\u001b[0m\n",
      " \u001b[32m+\u001b[39m \u001b[1masync-lru\u001b[0m\u001b[2m==2.0.5\u001b[0m\n",
      " \u001b[32m+\u001b[39m \u001b[1mattrs\u001b[0m\u001b[2m==25.3.0\u001b[0m\n",
      " \u001b[32m+\u001b[39m \u001b[1mbabel\u001b[0m\u001b[2m==2.17.0\u001b[0m\n",
      " \u001b[32m+\u001b[39m \u001b[1mbeautifulsoup4\u001b[0m\u001b[2m==4.13.4\u001b[0m\n",
      " \u001b[32m+\u001b[39m \u001b[1mbinaryornot\u001b[0m\u001b[2m==0.4.4\u001b[0m\n",
      " \u001b[32m+\u001b[39m \u001b[1mbleach\u001b[0m\u001b[2m==6.2.0\u001b[0m\n",
      " \u001b[32m+\u001b[39m \u001b[1mcfgv\u001b[0m\u001b[2m==3.4.0\u001b[0m\n",
      " \u001b[32m+\u001b[39m \u001b[1mchardet\u001b[0m\u001b[2m==5.2.0\u001b[0m\n",
      " \u001b[32m+\u001b[39m \u001b[1mclick\u001b[0m\u001b[2m==8.2.1\u001b[0m\n",
      " \u001b[32m+\u001b[39m \u001b[1mcontourpy\u001b[0m\u001b[2m==1.3.2\u001b[0m\n",
      " \u001b[32m+\u001b[39m \u001b[1mcookiecutter\u001b[0m\u001b[2m==2.6.0\u001b[0m\n",
      " \u001b[32m+\u001b[39m \u001b[1mcoverage\u001b[0m\u001b[2m==7.8.2\u001b[0m\n",
      " \u001b[32m+\u001b[39m \u001b[1mcruft\u001b[0m\u001b[2m==2.16.0\u001b[0m\n",
      " \u001b[32m+\u001b[39m \u001b[1mcycler\u001b[0m\u001b[2m==0.12.1\u001b[0m\n",
      " \u001b[32m+\u001b[39m \u001b[1mdefusedxml\u001b[0m\u001b[2m==0.7.1\u001b[0m\n",
      " \u001b[32m+\u001b[39m \u001b[1mdistlib\u001b[0m\u001b[2m==0.3.9\u001b[0m\n",
      " \u001b[32m+\u001b[39m \u001b[1mentrypoints\u001b[0m\u001b[2m==0.4\u001b[0m\n",
      " \u001b[32m+\u001b[39m \u001b[1mfastjsonschema\u001b[0m\u001b[2m==2.21.1\u001b[0m\n",
      " \u001b[32m+\u001b[39m \u001b[1mfilelock\u001b[0m\u001b[2m==3.18.0\u001b[0m\n",
      " \u001b[32m+\u001b[39m \u001b[1mfonttools\u001b[0m\u001b[2m==4.58.0\u001b[0m\n",
      " \u001b[32m+\u001b[39m \u001b[1mfqdn\u001b[0m\u001b[2m==1.5.1\u001b[0m\n",
      " \u001b[32m+\u001b[39m \u001b[1mgitdb\u001b[0m\u001b[2m==4.0.12\u001b[0m\n",
      " \u001b[32m+\u001b[39m \u001b[1mgitpython\u001b[0m\u001b[2m==3.1.44\u001b[0m\n",
      " \u001b[32m+\u001b[39m \u001b[1mh11\u001b[0m\u001b[2m==0.16.0\u001b[0m\n",
      " \u001b[32m+\u001b[39m \u001b[1mhttpcore\u001b[0m\u001b[2m==1.0.9\u001b[0m\n",
      " \u001b[32m+\u001b[39m \u001b[1mhttpx\u001b[0m\u001b[2m==0.28.1\u001b[0m\n",
      " \u001b[32m+\u001b[39m \u001b[1midentify\u001b[0m\u001b[2m==2.6.12\u001b[0m\n",
      " \u001b[32m+\u001b[39m \u001b[1miniconfig\u001b[0m\u001b[2m==2.1.0\u001b[0m\n",
      " \u001b[31m-\u001b[39m \u001b[1mipython\u001b[0m\u001b[2m==9.3.0\u001b[0m\n",
      " \u001b[32m+\u001b[39m \u001b[1mipython\u001b[0m\u001b[2m==9.2.0\u001b[0m\n",
      " \u001b[32m+\u001b[39m \u001b[1mipywidgets\u001b[0m\u001b[2m==8.1.7\u001b[0m\n",
      " \u001b[32m+\u001b[39m \u001b[1misoduration\u001b[0m\u001b[2m==20.11.0\u001b[0m\n",
      " \u001b[32m+\u001b[39m \u001b[1mjinja2\u001b[0m\u001b[2m==3.0.3\u001b[0m\n",
      " \u001b[32m+\u001b[39m \u001b[1mjoblib\u001b[0m\u001b[2m==1.5.1\u001b[0m\n",
      " \u001b[32m+\u001b[39m \u001b[1mjson5\u001b[0m\u001b[2m==0.12.0\u001b[0m\n",
      " \u001b[32m+\u001b[39m \u001b[1mjsonpointer\u001b[0m\u001b[2m==3.0.0\u001b[0m\n",
      " \u001b[32m+\u001b[39m \u001b[1mjsonschema\u001b[0m\u001b[2m==4.24.0\u001b[0m\n",
      " \u001b[32m+\u001b[39m \u001b[1mjsonschema-specifications\u001b[0m\u001b[2m==2025.4.1\u001b[0m\n",
      " \u001b[32m+\u001b[39m \u001b[1mjupyter\u001b[0m\u001b[2m==1.1.1\u001b[0m\n",
      " \u001b[32m+\u001b[39m \u001b[1mjupyter-console\u001b[0m\u001b[2m==6.6.3\u001b[0m\n",
      " \u001b[32m+\u001b[39m \u001b[1mjupyter-events\u001b[0m\u001b[2m==0.12.0\u001b[0m\n",
      " \u001b[32m+\u001b[39m \u001b[1mjupyter-lsp\u001b[0m\u001b[2m==2.2.5\u001b[0m\n",
      " \u001b[32m+\u001b[39m \u001b[1mjupyter-server\u001b[0m\u001b[2m==2.16.0\u001b[0m\n",
      " \u001b[32m+\u001b[39m \u001b[1mjupyter-server-terminals\u001b[0m\u001b[2m==0.5.3\u001b[0m\n",
      " \u001b[32m+\u001b[39m \u001b[1mjupyterlab\u001b[0m\u001b[2m==4.4.3\u001b[0m\n",
      " \u001b[32m+\u001b[39m \u001b[1mjupyterlab-pygments\u001b[0m\u001b[2m==0.3.0\u001b[0m\n",
      " \u001b[32m+\u001b[39m \u001b[1mjupyterlab-server\u001b[0m\u001b[2m==2.27.3\u001b[0m\n",
      " \u001b[32m+\u001b[39m \u001b[1mjupyterlab-widgets\u001b[0m\u001b[2m==3.0.15\u001b[0m\n",
      " \u001b[32m+\u001b[39m \u001b[1mkiwisolver\u001b[0m\u001b[2m==1.4.8\u001b[0m\n",
      " \u001b[32m+\u001b[39m \u001b[1mlxml\u001b[0m\u001b[2m==5.4.0\u001b[0m\n",
      " \u001b[32m+\u001b[39m \u001b[1mmarkdown-it-py\u001b[0m\u001b[2m==3.0.0\u001b[0m\n",
      " \u001b[32m+\u001b[39m \u001b[1mmarkupsafe\u001b[0m\u001b[2m==2.0.1\u001b[0m\n",
      " \u001b[32m+\u001b[39m \u001b[1mmatplotlib\u001b[0m\u001b[2m==3.10.3\u001b[0m\n",
      " \u001b[32m+\u001b[39m \u001b[1mmdurl\u001b[0m\u001b[2m==0.1.2\u001b[0m\n",
      " \u001b[32m+\u001b[39m \u001b[1mmistune\u001b[0m\u001b[2m==0.8.4\u001b[0m\n",
      " \u001b[32m+\u001b[39m \u001b[1mnarwhals\u001b[0m\u001b[2m==1.41.0\u001b[0m\n",
      " \u001b[32m+\u001b[39m \u001b[1mnbclient\u001b[0m\u001b[2m==0.10.2\u001b[0m\n",
      " \u001b[32m+\u001b[39m \u001b[1mnbconvert\u001b[0m\u001b[2m==6.5.4\u001b[0m\n",
      " \u001b[32m+\u001b[39m \u001b[1mnbformat\u001b[0m\u001b[2m==5.10.4\u001b[0m\n",
      " \u001b[32m+\u001b[39m \u001b[1mnodeenv\u001b[0m\u001b[2m==1.9.1\u001b[0m\n",
      " \u001b[32m+\u001b[39m \u001b[1mnotebook\u001b[0m\u001b[2m==7.4.3\u001b[0m\n",
      " \u001b[32m+\u001b[39m \u001b[1mnotebook-shim\u001b[0m\u001b[2m==0.2.4\u001b[0m\n",
      " \u001b[31m-\u001b[39m \u001b[1mnumpy\u001b[0m\u001b[2m==1.26.4\u001b[0m\n",
      " \u001b[32m+\u001b[39m \u001b[1mnumpy\u001b[0m\u001b[2m==2.2.6\u001b[0m\n",
      " \u001b[32m+\u001b[39m \u001b[1moverrides\u001b[0m\u001b[2m==7.7.0\u001b[0m\n",
      " \u001b[31m-\u001b[39m \u001b[1mpandas\u001b[0m\u001b[2m==2.1.4\u001b[0m\n",
      " \u001b[32m+\u001b[39m \u001b[1mpandas\u001b[0m\u001b[2m==2.2.3\u001b[0m\n",
      " \u001b[32m+\u001b[39m \u001b[1mpandocfilters\u001b[0m\u001b[2m==1.5.1\u001b[0m\n",
      " \u001b[32m+\u001b[39m \u001b[1mpillow\u001b[0m\u001b[2m==11.2.1\u001b[0m\n",
      " \u001b[32m+\u001b[39m \u001b[1mplotly\u001b[0m\u001b[2m==6.1.1\u001b[0m\n",
      " \u001b[32m+\u001b[39m \u001b[1mpluggy\u001b[0m\u001b[2m==1.6.0\u001b[0m\n",
      " \u001b[32m+\u001b[39m \u001b[1mpre-commit\u001b[0m\u001b[2m==4.2.0\u001b[0m\n",
      " \u001b[32m+\u001b[39m \u001b[1mprometheus-client\u001b[0m\u001b[2m==0.22.0\u001b[0m\n",
      " \u001b[32m+\u001b[39m \u001b[1mpyarrow\u001b[0m\u001b[2m==20.0.0\u001b[0m\n",
      " \u001b[32m+\u001b[39m \u001b[1mpydantic\u001b[0m\u001b[2m==2.11.5\u001b[0m\n",
      " \u001b[32m+\u001b[39m \u001b[1mpydantic-core\u001b[0m\u001b[2m==2.33.2\u001b[0m\n",
      " \u001b[32m+\u001b[39m \u001b[1mpydantic-settings\u001b[0m\u001b[2m==2.9.1\u001b[0m\n",
      " \u001b[32m+\u001b[39m \u001b[1mpyparsing\u001b[0m\u001b[2m==2.4.7\u001b[0m\n",
      " \u001b[32m+\u001b[39m \u001b[1mpytest\u001b[0m\u001b[2m==8.3.5\u001b[0m\n",
      " \u001b[32m+\u001b[39m \u001b[1mpytest-cookies\u001b[0m\u001b[2m==0.7.0\u001b[0m\n",
      " \u001b[32m+\u001b[39m \u001b[1mpytest-cov\u001b[0m\u001b[2m==6.1.1\u001b[0m\n",
      " \u001b[32m+\u001b[39m \u001b[1mpython-dotenv\u001b[0m\u001b[2m==1.1.0\u001b[0m\n",
      " \u001b[32m+\u001b[39m \u001b[1mpython-json-logger\u001b[0m\u001b[2m==3.3.0\u001b[0m\n",
      " \u001b[32m+\u001b[39m \u001b[1mpython-slugify\u001b[0m\u001b[2m==8.0.4\u001b[0m\n",
      " \u001b[32m+\u001b[39m \u001b[1mpyyaml\u001b[0m\u001b[2m==6.0.2\u001b[0m\n",
      " \u001b[32m+\u001b[39m \u001b[1mredis\u001b[0m\u001b[2m==6.2.0\u001b[0m\n",
      " \u001b[32m+\u001b[39m \u001b[1mreferencing\u001b[0m\u001b[2m==0.36.2\u001b[0m\n",
      " \u001b[32m+\u001b[39m \u001b[1mrfc3339-validator\u001b[0m\u001b[2m==0.1.4\u001b[0m\n",
      " \u001b[32m+\u001b[39m \u001b[1mrfc3986-validator\u001b[0m\u001b[2m==0.1.1\u001b[0m\n",
      " \u001b[32m+\u001b[39m \u001b[1mrich\u001b[0m\u001b[2m==14.0.0\u001b[0m\n",
      " \u001b[32m+\u001b[39m \u001b[1mrpds-py\u001b[0m\u001b[2m==0.25.1\u001b[0m\n",
      " \u001b[32m+\u001b[39m \u001b[1mseaborn\u001b[0m\u001b[2m==0.13.2\u001b[0m\n",
      " \u001b[32m+\u001b[39m \u001b[1msend2trash\u001b[0m\u001b[2m==1.8.3\u001b[0m\n",
      " \u001b[31m-\u001b[39m \u001b[1msetuptools\u001b[0m\u001b[2m==65.5.0\u001b[0m\n",
      " \u001b[32m+\u001b[39m \u001b[1msetuptools\u001b[0m\u001b[2m==80.9.0\u001b[0m\n",
      " \u001b[32m+\u001b[39m \u001b[1mshellingham\u001b[0m\u001b[2m==1.5.4\u001b[0m\n",
      " \u001b[32m+\u001b[39m \u001b[1msmmap\u001b[0m\u001b[2m==5.0.2\u001b[0m\n",
      " \u001b[32m+\u001b[39m \u001b[1msniffio\u001b[0m\u001b[2m==1.3.1\u001b[0m\n",
      " \u001b[32m+\u001b[39m \u001b[1msoupsieve\u001b[0m\u001b[2m==2.7\u001b[0m\n",
      " \u001b[32m+\u001b[39m \u001b[1mspotipy\u001b[0m\u001b[2m==2.25.1\u001b[0m\n",
      " \u001b[32m+\u001b[39m \u001b[1mterminado\u001b[0m\u001b[2m==0.18.1\u001b[0m\n",
      " \u001b[32m+\u001b[39m \u001b[1mtext-unidecode\u001b[0m\u001b[2m==1.3\u001b[0m\n",
      " \u001b[32m+\u001b[39m \u001b[1mthreadpoolctl\u001b[0m\u001b[2m==3.6.0\u001b[0m\n",
      " \u001b[32m+\u001b[39m \u001b[1mtinycss2\u001b[0m\u001b[2m==1.4.0\u001b[0m\n",
      " \u001b[32m+\u001b[39m \u001b[1mtoml\u001b[0m\u001b[2m==0.10.2\u001b[0m\n",
      " \u001b[32m+\u001b[39m \u001b[1mtyper\u001b[0m\u001b[2m==0.16.0\u001b[0m\n",
      " \u001b[32m+\u001b[39m \u001b[1mtypes-python-dateutil\u001b[0m\u001b[2m==2.9.0.20250516\u001b[0m\n",
      " \u001b[32m+\u001b[39m \u001b[1mtyping-inspection\u001b[0m\u001b[2m==0.4.1\u001b[0m\n",
      " \u001b[32m+\u001b[39m \u001b[1muri-template\u001b[0m\u001b[2m==1.3.0\u001b[0m\n",
      " \u001b[31m-\u001b[39m \u001b[1murllib3\u001b[0m\u001b[2m==2.4.0\u001b[0m\n",
      " \u001b[32m+\u001b[39m \u001b[1murllib3\u001b[0m\u001b[2m==1.26.20\u001b[0m\n",
      " \u001b[32m+\u001b[39m \u001b[1mvirtualenv\u001b[0m\u001b[2m==20.31.2\u001b[0m\n",
      " \u001b[32m+\u001b[39m \u001b[1mwebcolors\u001b[0m\u001b[2m==24.11.1\u001b[0m\n",
      " \u001b[32m+\u001b[39m \u001b[1mwebencodings\u001b[0m\u001b[2m==0.5.1\u001b[0m\n",
      " \u001b[32m+\u001b[39m \u001b[1mwebsocket-client\u001b[0m\u001b[2m==1.8.0\u001b[0m\n",
      " \u001b[32m+\u001b[39m \u001b[1mwidgetsnbextension\u001b[0m\u001b[2m==4.0.14\u001b[0m\n"
     ]
    }
   ],
   "source": [
    "%pip install --upgrade \"confluent-kafka>=2.3.0\"\n",
    "%pip install hopsworks\n",
    "\n",
    "!uv add --group dev pydantic pydantic_settings"
   ]
  },
  {
   "cell_type": "code",
   "execution_count": 3,
   "id": "ffc136f6",
   "metadata": {},
   "outputs": [],
   "source": [
    "import sys\n",
    "from pathlib import Path\n",
    "\n",
    "# Add the src directory to sys.path\n",
    "root_dir = Path().absolute().parent.parent\n",
    "# Add project root to the path of Python\n",
    "sys.path.append(str(root_dir))\n",
    "\n",
    "from src import config  # noqa: E402\n",
    "\n",
    "# Set the environment variables from the file <root_dir>/.env\n",
    "settings = config.HopsworksSettings(_env_file=f\"{root_dir}/.env\")"
   ]
  },
  {
   "cell_type": "code",
   "execution_count": 4,
   "id": "72ec1217",
   "metadata": {},
   "outputs": [
    {
     "name": "stdout",
     "output_type": "stream",
     "text": [
      "algorhythms\n",
      "https://c.app.hopsworks.ai\n"
     ]
    }
   ],
   "source": [
    "print(settings.HOPSWORKS_PROJECT)  # -> \"algorhythms\"\n",
    "print(settings.HOPSWORKS_HOST)     # -> \"https://c.app.hopsworks.ai\""
   ]
  },
  {
   "cell_type": "markdown",
   "id": "9f76f7e5",
   "metadata": {},
   "source": [
    "## Part 01: Feature Backfill for Algorhythm\n"
   ]
  },
  {
   "cell_type": "markdown",
   "id": "b16f2768",
   "metadata": {},
   "source": [
    "### <span style='color:#ff5f27'> 📝 Imports\n"
   ]
  },
  {
   "cell_type": "code",
   "execution_count": 7,
   "id": "239ba68c",
   "metadata": {},
   "outputs": [
    {
     "ename": "ImportError",
     "evalue": "cannot import name 'utils' from 'src.utils' (unknown location)",
     "output_type": "error",
     "traceback": [
      "\u001b[31m---------------------------------------------------------------------------\u001b[39m",
      "\u001b[31mImportError\u001b[39m                               Traceback (most recent call last)",
      "\u001b[36mCell\u001b[39m\u001b[36m \u001b[39m\u001b[32mIn[7]\u001b[39m\u001b[32m, line 7\u001b[39m\n\u001b[32m      4\u001b[39m \u001b[38;5;28;01mimport\u001b[39;00m\u001b[38;5;250m \u001b[39m\u001b[34;01mhopsworks\u001b[39;00m\n\u001b[32m      5\u001b[39m \u001b[38;5;28;01mimport\u001b[39;00m\u001b[38;5;250m \u001b[39m\u001b[34;01mpandas\u001b[39;00m\u001b[38;5;250m \u001b[39m\u001b[38;5;28;01mas\u001b[39;00m\u001b[38;5;250m \u001b[39m\u001b[34;01mpd\u001b[39;00m\n\u001b[32m----> \u001b[39m\u001b[32m7\u001b[39m \u001b[38;5;28;01mfrom\u001b[39;00m\u001b[38;5;250m \u001b[39m\u001b[34;01msrc\u001b[39;00m\u001b[34;01m.\u001b[39;00m\u001b[34;01mutils\u001b[39;00m\u001b[38;5;250m \u001b[39m\u001b[38;5;28;01mimport\u001b[39;00m utils\n",
      "\u001b[31mImportError\u001b[39m: cannot import name 'utils' from 'src.utils' (unknown location)"
     ]
    }
   ],
   "source": [
    "import datetime\n",
    "import json\n",
    "\n",
    "import hopsworks\n",
    "import pandas as pd\n",
    "\n",
    "from src.utils import utils"
   ]
  },
  {
   "cell_type": "markdown",
   "id": "fe8a7c26",
   "metadata": {},
   "source": [
    "## Hopsworks API Key\n",
    "\n",
    "You need to have registered an account on app.hopsworks.ai.\n",
    "\n",
    "Save the HOPSWORKS_API_KEY to ~/.env file in the root directory of your project\n",
    "\n",
    "- mv .env.example .env\n",
    "- edit .env\n",
    "\n",
    "In the .env file, update HOPSWORKS_API_KEY:\n",
    "\n",
    "`HOPSWORKS_API_KEY=\"put API KEY value in this string\"`\n"
   ]
  },
  {
   "cell_type": "code",
   "execution_count": 9,
   "id": "b0ccdd9d",
   "metadata": {},
   "outputs": [
    {
     "name": "stdout",
     "output_type": "stream",
     "text": [
      "2025-05-31 21:40:12,439 INFO: Closing external client and cleaning up certificates.\n",
      "2025-05-31 21:40:12,442 INFO: Initializing external client\n",
      "2025-05-31 21:40:12,443 INFO: Base URL: https://https://c.app.hopsworks.ai:443\n"
     ]
    },
    {
     "ename": "ValueError",
     "evalue": "Invalid port ''.",
     "output_type": "error",
     "traceback": [
      "\u001b[31m---------------------------------------------------------------------------\u001b[39m",
      "\u001b[31mValueError\u001b[39m                                Traceback (most recent call last)",
      "\u001b[36mCell\u001b[39m\u001b[36m \u001b[39m\u001b[32mIn[9]\u001b[39m\u001b[32m, line 1\u001b[39m\n\u001b[32m----> \u001b[39m\u001b[32m1\u001b[39m project = \u001b[43mhopsworks\u001b[49m\u001b[43m.\u001b[49m\u001b[43mlogin\u001b[49m\u001b[43m(\u001b[49m\u001b[43m)\u001b[49m\n",
      "\u001b[36mFile \u001b[39m\u001b[32m~/Documents/music-recommendation-system/.venv/lib/python3.11/site-packages/hopsworks/__init__.py:268\u001b[39m, in \u001b[36mlogin\u001b[39m\u001b[34m(host, port, project, api_key_value, api_key_file, hostname_verification, trust_store_path, engine)\u001b[39m\n\u001b[32m    265\u001b[39m         fh.write(api_key.strip())\n\u001b[32m    267\u001b[39m \u001b[38;5;28;01mtry\u001b[39;00m:\n\u001b[32m--> \u001b[39m\u001b[32m268\u001b[39m     _hw_connection = \u001b[43m_hw_connection\u001b[49m\u001b[43m(\u001b[49m\n\u001b[32m    269\u001b[39m \u001b[43m        \u001b[49m\u001b[43mhost\u001b[49m\u001b[43m=\u001b[49m\u001b[43mhost\u001b[49m\u001b[43m,\u001b[49m\n\u001b[32m    270\u001b[39m \u001b[43m        \u001b[49m\u001b[43mport\u001b[49m\u001b[43m=\u001b[49m\u001b[43mport\u001b[49m\u001b[43m,\u001b[49m\n\u001b[32m    271\u001b[39m \u001b[43m        \u001b[49m\u001b[43mengine\u001b[49m\u001b[43m=\u001b[49m\u001b[43mengine\u001b[49m\u001b[43m,\u001b[49m\n\u001b[32m    272\u001b[39m \u001b[43m        \u001b[49m\u001b[43mapi_key_value\u001b[49m\u001b[43m=\u001b[49m\u001b[43mapi_key\u001b[49m\u001b[43m,\u001b[49m\n\u001b[32m    273\u001b[39m \u001b[43m        \u001b[49m\u001b[43mhostname_verification\u001b[49m\u001b[43m=\u001b[49m\u001b[43mhostname_verification\u001b[49m\u001b[43m,\u001b[49m\n\u001b[32m    274\u001b[39m \u001b[43m        \u001b[49m\u001b[43mtrust_store_path\u001b[49m\u001b[43m=\u001b[49m\u001b[43mtrust_store_path\u001b[49m\u001b[43m,\u001b[49m\n\u001b[32m    275\u001b[39m \u001b[43m    \u001b[49m\u001b[43m)\u001b[49m\n\u001b[32m    276\u001b[39m     _connected_project = _prompt_project(_hw_connection, project, is_app)\n\u001b[32m    277\u001b[39m     \u001b[38;5;28;01mif\u001b[39;00m _connected_project:\n",
      "\u001b[36mFile \u001b[39m\u001b[32m~/Documents/music-recommendation-system/.venv/lib/python3.11/site-packages/hopsworks_common/connection.py:559\u001b[39m, in \u001b[36mConnection.connection\u001b[39m\u001b[34m(cls, host, port, project, engine, hostname_verification, trust_store_path, cert_folder, api_key_file, api_key_value)\u001b[39m\n\u001b[32m    478\u001b[39m \u001b[38;5;129m@classmethod\u001b[39m\n\u001b[32m    479\u001b[39m \u001b[38;5;28;01mdef\u001b[39;00m\u001b[38;5;250m \u001b[39m\u001b[34mconnection\u001b[39m(\n\u001b[32m    480\u001b[39m     \u001b[38;5;28mcls\u001b[39m,\n\u001b[32m   (...)\u001b[39m\u001b[32m    489\u001b[39m     api_key_value: Optional[\u001b[38;5;28mstr\u001b[39m] = \u001b[38;5;28;01mNone\u001b[39;00m,\n\u001b[32m    490\u001b[39m ) -> Connection:\n\u001b[32m    491\u001b[39m \u001b[38;5;250m    \u001b[39m\u001b[33;03m\"\"\"Connection factory method, accessible through `hopsworks.connection()`.\u001b[39;00m\n\u001b[32m    492\u001b[39m \n\u001b[32m    493\u001b[39m \u001b[33;03m    This class provides convenience classmethods accessible from the `hopsworks`-module:\u001b[39;00m\n\u001b[32m   (...)\u001b[39m\u001b[32m    557\u001b[39m \u001b[33;03m            Hopsworks project.\u001b[39;00m\n\u001b[32m    558\u001b[39m \u001b[33;03m    \"\"\"\u001b[39;00m\n\u001b[32m--> \u001b[39m\u001b[32m559\u001b[39m     \u001b[38;5;28;01mreturn\u001b[39;00m \u001b[38;5;28;43mcls\u001b[39;49m\u001b[43m(\u001b[49m\n\u001b[32m    560\u001b[39m \u001b[43m        \u001b[49m\u001b[43mhost\u001b[49m\u001b[43m,\u001b[49m\n\u001b[32m    561\u001b[39m \u001b[43m        \u001b[49m\u001b[43mport\u001b[49m\u001b[43m,\u001b[49m\n\u001b[32m    562\u001b[39m \u001b[43m        \u001b[49m\u001b[43mproject\u001b[49m\u001b[43m,\u001b[49m\n\u001b[32m    563\u001b[39m \u001b[43m        \u001b[49m\u001b[43mengine\u001b[49m\u001b[43m,\u001b[49m\n\u001b[32m    564\u001b[39m \u001b[43m        \u001b[49m\u001b[43mhostname_verification\u001b[49m\u001b[43m,\u001b[49m\n\u001b[32m    565\u001b[39m \u001b[43m        \u001b[49m\u001b[43mtrust_store_path\u001b[49m\u001b[43m,\u001b[49m\n\u001b[32m    566\u001b[39m \u001b[43m        \u001b[49m\u001b[43mcert_folder\u001b[49m\u001b[43m,\u001b[49m\n\u001b[32m    567\u001b[39m \u001b[43m        \u001b[49m\u001b[43mapi_key_file\u001b[49m\u001b[43m,\u001b[49m\n\u001b[32m    568\u001b[39m \u001b[43m        \u001b[49m\u001b[43mapi_key_value\u001b[49m\u001b[43m,\u001b[49m\n\u001b[32m    569\u001b[39m \u001b[43m    \u001b[49m\u001b[43m)\u001b[49m\n",
      "\u001b[36mFile \u001b[39m\u001b[32m~/Documents/music-recommendation-system/.venv/lib/python3.11/site-packages/hopsworks_common/connection.py:152\u001b[39m, in \u001b[36mConnection.__init__\u001b[39m\u001b[34m(self, host, port, project, engine, hostname_verification, trust_store_path, cert_folder, api_key_file, api_key_value)\u001b[39m\n\u001b[32m    149\u001b[39m \u001b[38;5;28mself\u001b[39m._connected = \u001b[38;5;28;01mFalse\u001b[39;00m\n\u001b[32m    150\u001b[39m \u001b[38;5;28mself\u001b[39m._backend_version = \u001b[38;5;28;01mNone\u001b[39;00m\n\u001b[32m--> \u001b[39m\u001b[32m152\u001b[39m \u001b[38;5;28;43mself\u001b[39;49m\u001b[43m.\u001b[49m\u001b[43mconnect\u001b[49m\u001b[43m(\u001b[49m\u001b[43m)\u001b[49m\n",
      "\u001b[36mFile \u001b[39m\u001b[32m~/Documents/music-recommendation-system/.venv/lib/python3.11/site-packages/hopsworks_common/decorators.py:38\u001b[39m, in \u001b[36mnot_connected.<locals>.if_not_connected\u001b[39m\u001b[34m(inst, *args, **kwargs)\u001b[39m\n\u001b[32m     36\u001b[39m \u001b[38;5;28;01mif\u001b[39;00m inst._connected:\n\u001b[32m     37\u001b[39m     \u001b[38;5;28;01mraise\u001b[39;00m HopsworksConnectionError\n\u001b[32m---> \u001b[39m\u001b[32m38\u001b[39m \u001b[38;5;28;01mreturn\u001b[39;00m \u001b[43mfn\u001b[49m\u001b[43m(\u001b[49m\u001b[43minst\u001b[49m\u001b[43m,\u001b[49m\u001b[43m \u001b[49m\u001b[43m*\u001b[49m\u001b[43margs\u001b[49m\u001b[43m,\u001b[49m\u001b[43m \u001b[49m\u001b[43m*\u001b[49m\u001b[43m*\u001b[49m\u001b[43mkwargs\u001b[49m\u001b[43m)\u001b[49m\n",
      "\u001b[36mFile \u001b[39m\u001b[32m~/Documents/music-recommendation-system/.venv/lib/python3.11/site-packages/hopsworks_common/connection.py:407\u001b[39m, in \u001b[36mConnection.connect\u001b[39m\u001b[34m(self)\u001b[39m\n\u001b[32m    405\u001b[39m     \u001b[38;5;28mself\u001b[39m._secret_api = secret_api.SecretsApi()\n\u001b[32m    406\u001b[39m     \u001b[38;5;28mself\u001b[39m._variable_api = variable_api.VariableApi()\n\u001b[32m--> \u001b[39m\u001b[32m407\u001b[39m     usage.init_usage(\u001b[38;5;28mself\u001b[39m._host, \u001b[38;5;28;43mself\u001b[39;49m\u001b[43m.\u001b[49m\u001b[43m_variable_api\u001b[49m\u001b[43m.\u001b[49m\u001b[43mget_version\u001b[49m\u001b[43m(\u001b[49m\u001b[33;43m\"\u001b[39;49m\u001b[33;43mhopsworks\u001b[39;49m\u001b[33;43m\"\u001b[39;49m\u001b[43m)\u001b[49m)\n\u001b[32m    409\u001b[39m     \u001b[38;5;28mself\u001b[39m._provide_project()\n\u001b[32m    410\u001b[39m \u001b[38;5;28;01mexcept\u001b[39;00m (\u001b[38;5;167;01mTypeError\u001b[39;00m, \u001b[38;5;167;01mConnectionError\u001b[39;00m):\n",
      "\u001b[36mFile \u001b[39m\u001b[32m~/Documents/music-recommendation-system/.venv/lib/python3.11/site-packages/hopsworks_common/core/variable_api.py:68\u001b[39m, in \u001b[36mVariableApi.get_version\u001b[39m\u001b[34m(self, software)\u001b[39m\n\u001b[32m     65\u001b[39m _client = client.get_instance()\n\u001b[32m     67\u001b[39m path_params = [\u001b[33m\"\u001b[39m\u001b[33mvariables\u001b[39m\u001b[33m\"\u001b[39m, \u001b[33m\"\u001b[39m\u001b[33mversions\u001b[39m\u001b[33m\"\u001b[39m]\n\u001b[32m---> \u001b[39m\u001b[32m68\u001b[39m resp = \u001b[43m_client\u001b[49m\u001b[43m.\u001b[49m\u001b[43m_send_request\u001b[49m\u001b[43m(\u001b[49m\u001b[33;43m\"\u001b[39;49m\u001b[33;43mGET\u001b[39;49m\u001b[33;43m\"\u001b[39;49m\u001b[43m,\u001b[49m\u001b[43m \u001b[49m\u001b[43mpath_params\u001b[49m\u001b[43m)\u001b[49m\n\u001b[32m     70\u001b[39m \u001b[38;5;28;01mfor\u001b[39;00m entry \u001b[38;5;129;01min\u001b[39;00m resp:\n\u001b[32m     71\u001b[39m     \u001b[38;5;28;01mif\u001b[39;00m entry[\u001b[33m\"\u001b[39m\u001b[33msoftware\u001b[39m\u001b[33m\"\u001b[39m] == software:\n",
      "\u001b[36mFile \u001b[39m\u001b[32m~/Documents/music-recommendation-system/.venv/lib/python3.11/site-packages/hopsworks_common/decorators.py:48\u001b[39m, in \u001b[36mconnected.<locals>.if_connected\u001b[39m\u001b[34m(inst, *args, **kwargs)\u001b[39m\n\u001b[32m     46\u001b[39m \u001b[38;5;28;01mif\u001b[39;00m \u001b[38;5;129;01mnot\u001b[39;00m inst._connected:\n\u001b[32m     47\u001b[39m     \u001b[38;5;28;01mraise\u001b[39;00m NoHopsworksConnectionError\n\u001b[32m---> \u001b[39m\u001b[32m48\u001b[39m \u001b[38;5;28;01mreturn\u001b[39;00m \u001b[43mfn\u001b[49m\u001b[43m(\u001b[49m\u001b[43minst\u001b[49m\u001b[43m,\u001b[49m\u001b[43m \u001b[49m\u001b[43m*\u001b[49m\u001b[43margs\u001b[49m\u001b[43m,\u001b[49m\u001b[43m \u001b[49m\u001b[43m*\u001b[49m\u001b[43m*\u001b[49m\u001b[43mkwargs\u001b[49m\u001b[43m)\u001b[49m\n",
      "\u001b[36mFile \u001b[39m\u001b[32m~/Documents/music-recommendation-system/.venv/lib/python3.11/site-packages/hopsworks_common/client/base.py:156\u001b[39m, in \u001b[36mClient._send_request\u001b[39m\u001b[34m(self, method, path_params, query_params, headers, data, stream, files, with_base_path_params)\u001b[39m\n\u001b[32m    120\u001b[39m \u001b[38;5;129m@connected\u001b[39m\n\u001b[32m    121\u001b[39m \u001b[38;5;28;01mdef\u001b[39;00m\u001b[38;5;250m \u001b[39m\u001b[34m_send_request\u001b[39m(\n\u001b[32m    122\u001b[39m     \u001b[38;5;28mself\u001b[39m,\n\u001b[32m   (...)\u001b[39m\u001b[32m    130\u001b[39m     with_base_path_params=\u001b[38;5;28;01mTrue\u001b[39;00m,\n\u001b[32m    131\u001b[39m ):\n\u001b[32m    132\u001b[39m \u001b[38;5;250m    \u001b[39m\u001b[33;03m\"\"\"Send REST request to Hopsworks.\u001b[39;00m\n\u001b[32m    133\u001b[39m \n\u001b[32m    134\u001b[39m \u001b[33;03m    Uses the client it is executed from. Path parameters are url encoded automatically.\u001b[39;00m\n\u001b[32m   (...)\u001b[39m\u001b[32m    154\u001b[39m \u001b[33;03m    :rtype: dict\u001b[39;00m\n\u001b[32m    155\u001b[39m \u001b[33;03m    \"\"\"\u001b[39;00m\n\u001b[32m--> \u001b[39m\u001b[32m156\u001b[39m     f_url = \u001b[43mfurl\u001b[49m\u001b[43m.\u001b[49m\u001b[43mfurl\u001b[49m\u001b[43m(\u001b[49m\u001b[38;5;28;43mself\u001b[39;49m\u001b[43m.\u001b[49m\u001b[43m_base_url\u001b[49m\u001b[43m)\u001b[49m\n\u001b[32m    157\u001b[39m     \u001b[38;5;28;01mif\u001b[39;00m with_base_path_params:\n\u001b[32m    158\u001b[39m         base_path_params = [\u001b[33m\"\u001b[39m\u001b[33mhopsworks-api\u001b[39m\u001b[33m\"\u001b[39m, \u001b[33m\"\u001b[39m\u001b[33mapi\u001b[39m\u001b[33m\"\u001b[39m]\n",
      "\u001b[36mFile \u001b[39m\u001b[32m~/Documents/music-recommendation-system/.venv/lib/python3.11/site-packages/furl/furl.py:1381\u001b[39m, in \u001b[36mfurl.__init__\u001b[39m\u001b[34m(self, url, args, path, fragment, scheme, netloc, origin, fragment_path, fragment_args, fragment_separator, host, port, query, query_params, username, password, strict)\u001b[39m\n\u001b[32m   1378\u001b[39m FragmentCompositionInterface.\u001b[34m__init__\u001b[39m(\u001b[38;5;28mself\u001b[39m, strict=strict)\n\u001b[32m   1379\u001b[39m \u001b[38;5;28mself\u001b[39m.strict = strict\n\u001b[32m-> \u001b[39m\u001b[32m1381\u001b[39m \u001b[38;5;28;43mself\u001b[39;49m\u001b[43m.\u001b[49m\u001b[43mload\u001b[49m\u001b[43m(\u001b[49m\u001b[43murl\u001b[49m\u001b[43m)\u001b[49m  \u001b[38;5;66;03m# Raises ValueError on invalid URL.\u001b[39;00m\n\u001b[32m   1382\u001b[39m \u001b[38;5;28mself\u001b[39m.set(  \u001b[38;5;66;03m# Raises ValueError on invalid URL component(s).\u001b[39;00m\n\u001b[32m   1383\u001b[39m     args=args, path=path, fragment=fragment, scheme=scheme,\n\u001b[32m   1384\u001b[39m     netloc=netloc, origin=origin, fragment_path=fragment_path,\n\u001b[32m   1385\u001b[39m     fragment_args=fragment_args, fragment_separator=fragment_separator,\n\u001b[32m   1386\u001b[39m     host=host, port=port, query=query, query_params=query_params,\n\u001b[32m   1387\u001b[39m     username=username, password=password)\n",
      "\u001b[36mFile \u001b[39m\u001b[32m~/Documents/music-recommendation-system/.venv/lib/python3.11/site-packages/furl/furl.py:1408\u001b[39m, in \u001b[36mfurl.load\u001b[39m\u001b[34m(self, url)\u001b[39m\n\u001b[32m   1404\u001b[39m \u001b[38;5;66;03m# urlsplit() raises a ValueError on malformed IPv6 addresses in\u001b[39;00m\n\u001b[32m   1405\u001b[39m \u001b[38;5;66;03m# Python 2.7+.\u001b[39;00m\n\u001b[32m   1406\u001b[39m tokens = urlsplit(url)\n\u001b[32m-> \u001b[39m\u001b[32m1408\u001b[39m \u001b[38;5;28;43mself\u001b[39;49m\u001b[43m.\u001b[49m\u001b[43mnetloc\u001b[49m = tokens.netloc  \u001b[38;5;66;03m# Raises ValueError in Python 2.7+.\u001b[39;00m\n\u001b[32m   1409\u001b[39m \u001b[38;5;28mself\u001b[39m.scheme = tokens.scheme\n\u001b[32m   1410\u001b[39m \u001b[38;5;28;01mif\u001b[39;00m \u001b[38;5;129;01mnot\u001b[39;00m \u001b[38;5;28mself\u001b[39m.port:\n",
      "\u001b[36mFile \u001b[39m\u001b[32m~/Documents/music-recommendation-system/.venv/lib/python3.11/site-packages/furl/furl.py:1889\u001b[39m, in \u001b[36mfurl.__setattr__\u001b[39m\u001b[34m(self, attr, value)\u001b[39m\n\u001b[32m   1885\u001b[39m \u001b[38;5;28;01mdef\u001b[39;00m\u001b[38;5;250m \u001b[39m\u001b[34m__setattr__\u001b[39m(\u001b[38;5;28mself\u001b[39m, attr, value):\n\u001b[32m   1886\u001b[39m     \u001b[38;5;28;01mif\u001b[39;00m (\u001b[38;5;129;01mnot\u001b[39;00m PathCompositionInterface.\u001b[34m__setattr__\u001b[39m(\u001b[38;5;28mself\u001b[39m, attr, value) \u001b[38;5;129;01mand\u001b[39;00m\n\u001b[32m   1887\u001b[39m        \u001b[38;5;129;01mnot\u001b[39;00m QueryCompositionInterface.\u001b[34m__setattr__\u001b[39m(\u001b[38;5;28mself\u001b[39m, attr, value) \u001b[38;5;129;01mand\u001b[39;00m\n\u001b[32m   1888\u001b[39m        \u001b[38;5;129;01mnot\u001b[39;00m FragmentCompositionInterface.\u001b[34m__setattr__\u001b[39m(\u001b[38;5;28mself\u001b[39m, attr, value)):\n\u001b[32m-> \u001b[39m\u001b[32m1889\u001b[39m         \u001b[38;5;28;43mobject\u001b[39;49m\u001b[43m.\u001b[49m\u001b[34;43m__setattr__\u001b[39;49m\u001b[43m(\u001b[49m\u001b[38;5;28;43mself\u001b[39;49m\u001b[43m,\u001b[49m\u001b[43m \u001b[49m\u001b[43mattr\u001b[49m\u001b[43m,\u001b[49m\u001b[43m \u001b[49m\u001b[43mvalue\u001b[49m\u001b[43m)\u001b[49m\n",
      "\u001b[36mFile \u001b[39m\u001b[32m~/Documents/music-recommendation-system/.venv/lib/python3.11/site-packages/furl/furl.py:1534\u001b[39m, in \u001b[36mfurl.netloc\u001b[39m\u001b[34m(self, netloc)\u001b[39m\n\u001b[32m   1529\u001b[39m     host = netloc\n\u001b[32m   1531\u001b[39m \u001b[38;5;66;03m# Avoid side effects by assigning self.port before self.host so\u001b[39;00m\n\u001b[32m   1532\u001b[39m \u001b[38;5;66;03m# that if an exception is raised when assigning self.port,\u001b[39;00m\n\u001b[32m   1533\u001b[39m \u001b[38;5;66;03m# self.host isn't updated.\u001b[39;00m\n\u001b[32m-> \u001b[39m\u001b[32m1534\u001b[39m \u001b[38;5;28;43mself\u001b[39;49m\u001b[43m.\u001b[49m\u001b[43mport\u001b[49m = port  \u001b[38;5;66;03m# Raises ValueError on invalid port.\u001b[39;00m\n\u001b[32m   1535\u001b[39m \u001b[38;5;28mself\u001b[39m.host = host\n\u001b[32m   1536\u001b[39m \u001b[38;5;28mself\u001b[39m.username = \u001b[38;5;28;01mNone\u001b[39;00m \u001b[38;5;28;01mif\u001b[39;00m username \u001b[38;5;129;01mis\u001b[39;00m \u001b[38;5;28;01mNone\u001b[39;00m \u001b[38;5;28;01melse\u001b[39;00m unquote(username)\n",
      "\u001b[36mFile \u001b[39m\u001b[32m~/Documents/music-recommendation-system/.venv/lib/python3.11/site-packages/furl/furl.py:1889\u001b[39m, in \u001b[36mfurl.__setattr__\u001b[39m\u001b[34m(self, attr, value)\u001b[39m\n\u001b[32m   1885\u001b[39m \u001b[38;5;28;01mdef\u001b[39;00m\u001b[38;5;250m \u001b[39m\u001b[34m__setattr__\u001b[39m(\u001b[38;5;28mself\u001b[39m, attr, value):\n\u001b[32m   1886\u001b[39m     \u001b[38;5;28;01mif\u001b[39;00m (\u001b[38;5;129;01mnot\u001b[39;00m PathCompositionInterface.\u001b[34m__setattr__\u001b[39m(\u001b[38;5;28mself\u001b[39m, attr, value) \u001b[38;5;129;01mand\u001b[39;00m\n\u001b[32m   1887\u001b[39m        \u001b[38;5;129;01mnot\u001b[39;00m QueryCompositionInterface.\u001b[34m__setattr__\u001b[39m(\u001b[38;5;28mself\u001b[39m, attr, value) \u001b[38;5;129;01mand\u001b[39;00m\n\u001b[32m   1888\u001b[39m        \u001b[38;5;129;01mnot\u001b[39;00m FragmentCompositionInterface.\u001b[34m__setattr__\u001b[39m(\u001b[38;5;28mself\u001b[39m, attr, value)):\n\u001b[32m-> \u001b[39m\u001b[32m1889\u001b[39m         \u001b[38;5;28;43mobject\u001b[39;49m\u001b[43m.\u001b[49m\u001b[34;43m__setattr__\u001b[39;49m\u001b[43m(\u001b[49m\u001b[38;5;28;43mself\u001b[39;49m\u001b[43m,\u001b[49m\u001b[43m \u001b[49m\u001b[43mattr\u001b[49m\u001b[43m,\u001b[49m\u001b[43m \u001b[49m\u001b[43mvalue\u001b[49m\u001b[43m)\u001b[49m\n",
      "\u001b[36mFile \u001b[39m\u001b[32m~/Documents/music-recommendation-system/.venv/lib/python3.11/site-packages/furl/furl.py:1476\u001b[39m, in \u001b[36mfurl.port\u001b[39m\u001b[34m(self, port)\u001b[39m\n\u001b[32m   1474\u001b[39m     \u001b[38;5;28mself\u001b[39m._port = \u001b[38;5;28mint\u001b[39m(\u001b[38;5;28mstr\u001b[39m(port))\n\u001b[32m   1475\u001b[39m \u001b[38;5;28;01melse\u001b[39;00m:\n\u001b[32m-> \u001b[39m\u001b[32m1476\u001b[39m     \u001b[38;5;28;01mraise\u001b[39;00m \u001b[38;5;167;01mValueError\u001b[39;00m(\u001b[33m\"\u001b[39m\u001b[33mInvalid port \u001b[39m\u001b[33m'\u001b[39m\u001b[38;5;132;01m%s\u001b[39;00m\u001b[33m'\u001b[39m\u001b[33m.\u001b[39m\u001b[33m\"\u001b[39m % port)\n",
      "\u001b[31mValueError\u001b[39m: Invalid port ''."
     ]
    }
   ],
   "source": [
    "project = hopsworks.login()"
   ]
  },
  {
   "cell_type": "code",
   "execution_count": null,
   "id": "cbc57c40",
   "metadata": {},
   "outputs": [],
   "source": [
    "# taken from ~/.env. You can also replace settings.AQICN_API_KEY with the api key value as a string \"....\"\n",
    "if settings.AQICN_API_KEY is None:\n",
    "    print(\"You need to set AQICN_API_KEY either in this cell or in ~/.env\")\n",
    "    sys.exit(1)\n",
    "\n",
    "AQICN_API_KEY = settings.AQICN_API_KEY.get_secret_value()\n",
    "aqicn_url = settings.AQICN_URL\n",
    "country = settings.AQICN_COUNTRY\n",
    "city = settings.AQICN_CITY\n",
    "street = settings.AQICN_STREET\n",
    "# If this API call fails (it fails in a github action), then set longitude and latitude explicitly - comment out next line\n",
    "latitude, longitude = util.get_city_coordinates(city)\n",
    "# Uncomment this if API call to get longitude and latitude\n",
    "# latitude = \"53.3498\"\n",
    "# longitude = \"-6.2603\"\n",
    "\n",
    "\n",
    "print(f\"Found AQICN_API_KEY: {AQICN_API_KEY}\")\n",
    "\n",
    "secrets = hopsworks.get_secrets_api()\n",
    "try:\n",
    "    # Replace any existing secret with the new value\n",
    "    secret = secrets.get_secret(\"AQICN_API_KEY\")\n",
    "    secret.delete()\n",
    "    print(\"Replacing existing AQICN_API_KEY\")\n",
    "except hopsworks.RestAPIError:\n",
    "    print(\"No existing AQICN_API_KEY secret\")\n",
    "\n",
    "secrets.create_secret(\"AQICN_API_KEY\", AQICN_API_KEY)"
   ]
  },
  {
   "cell_type": "markdown",
   "id": "9a1729be",
   "metadata": {},
   "source": [
    "Secrets can be explored at https://c.app.hopsworks.ai:443/account/secrets\n"
   ]
  },
  {
   "cell_type": "markdown",
   "id": "18c10a99",
   "metadata": {},
   "source": [
    "### Validate that the AQICN_API_KEY you added earlier works\n",
    "\n",
    "The cell below should print out something like:\n",
    "\n",
    "![image.png](attachment:832cc3e9-876c-450f-99d3-cc97abb55b13.png)\n"
   ]
  },
  {
   "cell_type": "code",
   "execution_count": null,
   "id": "a080bf6e",
   "metadata": {},
   "outputs": [
    {
     "data": {
      "text/html": [
       "<div>\n",
       "<style scoped>\n",
       "    .dataframe tbody tr th:only-of-type {\n",
       "        vertical-align: middle;\n",
       "    }\n",
       "\n",
       "    .dataframe tbody tr th {\n",
       "        vertical-align: top;\n",
       "    }\n",
       "\n",
       "    .dataframe thead th {\n",
       "        text-align: right;\n",
       "    }\n",
       "</style>\n",
       "<table border=\"1\" class=\"dataframe\">\n",
       "  <thead>\n",
       "    <tr style=\"text-align: right;\">\n",
       "      <th></th>\n",
       "      <th>pm25</th>\n",
       "      <th>country</th>\n",
       "      <th>city</th>\n",
       "      <th>street</th>\n",
       "      <th>date</th>\n",
       "      <th>url</th>\n",
       "    </tr>\n",
       "  </thead>\n",
       "  <tbody>\n",
       "    <tr>\n",
       "      <th>0</th>\n",
       "      <td>38.0</td>\n",
       "      <td>colombia</td>\n",
       "      <td>medellin</td>\n",
       "      <td>el-poblado</td>\n",
       "      <td>2025-05-18</td>\n",
       "      <td>https://api.waqi.info/feed/@12635</td>\n",
       "    </tr>\n",
       "  </tbody>\n",
       "</table>\n",
       "</div>"
      ],
      "text/plain": [
       "   pm25   country      city      street       date  \\\n",
       "0  38.0  colombia  medellin  el-poblado 2025-05-18   \n",
       "\n",
       "                                 url  \n",
       "0  https://api.waqi.info/feed/@12635  "
      ]
     },
     "metadata": {},
     "output_type": "display_data"
    }
   ],
   "source": [
    "try:\n",
    "    aq_today_df = util.get_pm25(aqicn_url, country, city, street, today, AQICN_API_KEY)\n",
    "except hopsworks.RestAPIError:\n",
    "    print(\n",
    "        \"It looks like the AQICN_API_KEY doesn't work for your sensor. Is the API key correct? Is the sensor URL correct?\"\n",
    "    )\n",
    "\n",
    "aq_today_df.head()"
   ]
  },
  {
   "cell_type": "markdown",
   "id": "c6ee04c7",
   "metadata": {},
   "source": [
    "## <span style='color:#ff5f27'> 🌍 STEP 5: Read your CSV file into a DataFrame </span>\n",
    "\n",
    "The cell below will read up historical air quality data as a CSV file into a Pandas DataFrame\n"
   ]
  },
  {
   "cell_type": "code",
   "execution_count": null,
   "id": "ed294d1e",
   "metadata": {},
   "outputs": [
    {
     "data": {
      "text/html": [
       "<div>\n",
       "<style scoped>\n",
       "    .dataframe tbody tr th:only-of-type {\n",
       "        vertical-align: middle;\n",
       "    }\n",
       "\n",
       "    .dataframe tbody tr th {\n",
       "        vertical-align: top;\n",
       "    }\n",
       "\n",
       "    .dataframe thead th {\n",
       "        text-align: right;\n",
       "    }\n",
       "</style>\n",
       "<table border=\"1\" class=\"dataframe\">\n",
       "  <thead>\n",
       "    <tr style=\"text-align: right;\">\n",
       "      <th></th>\n",
       "      <th>date</th>\n",
       "      <th>pm25</th>\n",
       "    </tr>\n",
       "  </thead>\n",
       "  <tbody>\n",
       "    <tr>\n",
       "      <th>16</th>\n",
       "      <td>2025-05-19</td>\n",
       "      <td>42</td>\n",
       "    </tr>\n",
       "    <tr>\n",
       "      <th>15</th>\n",
       "      <td>2025-05-18</td>\n",
       "      <td>52</td>\n",
       "    </tr>\n",
       "    <tr>\n",
       "      <th>14</th>\n",
       "      <td>2025-05-16</td>\n",
       "      <td>56</td>\n",
       "    </tr>\n",
       "    <tr>\n",
       "      <th>13</th>\n",
       "      <td>2025-05-15</td>\n",
       "      <td>65</td>\n",
       "    </tr>\n",
       "    <tr>\n",
       "      <th>12</th>\n",
       "      <td>2025-05-14</td>\n",
       "      <td>52</td>\n",
       "    </tr>\n",
       "    <tr>\n",
       "      <th>...</th>\n",
       "      <td>...</td>\n",
       "      <td>...</td>\n",
       "    </tr>\n",
       "    <tr>\n",
       "      <th>1924</th>\n",
       "      <td>2019-12-19</td>\n",
       "      <td>73</td>\n",
       "    </tr>\n",
       "    <tr>\n",
       "      <th>1923</th>\n",
       "      <td>2019-12-18</td>\n",
       "      <td>70</td>\n",
       "    </tr>\n",
       "    <tr>\n",
       "      <th>1922</th>\n",
       "      <td>2019-12-17</td>\n",
       "      <td>59</td>\n",
       "    </tr>\n",
       "    <tr>\n",
       "      <th>1921</th>\n",
       "      <td>2019-12-16</td>\n",
       "      <td>57</td>\n",
       "    </tr>\n",
       "    <tr>\n",
       "      <th>1920</th>\n",
       "      <td>2019-12-15</td>\n",
       "      <td>62</td>\n",
       "    </tr>\n",
       "  </tbody>\n",
       "</table>\n",
       "<p>1936 rows × 2 columns</p>\n",
       "</div>"
      ],
      "text/plain": [
       "           date  pm25\n",
       "16   2025-05-19    42\n",
       "15   2025-05-18    52\n",
       "14   2025-05-16    56\n",
       "13   2025-05-15    65\n",
       "12   2025-05-14    52\n",
       "...         ...   ...\n",
       "1924 2019-12-19    73\n",
       "1923 2019-12-18    70\n",
       "1922 2019-12-17    59\n",
       "1921 2019-12-16    57\n",
       "1920 2019-12-15    62\n",
       "\n",
       "[1936 rows x 2 columns]"
      ]
     },
     "metadata": {},
     "output_type": "display_data"
    }
   ],
   "source": [
    "df = pd.read_csv(csv_file, parse_dates=[\"date\"], skipinitialspace=True)\n",
    "df.sort_values(by=\"date\", ascending=False)"
   ]
  },
  {
   "cell_type": "markdown",
   "id": "4a079ea3",
   "metadata": {},
   "source": [
    "## <span style='color:#ff5f27'> 🌍 STEP 6: Data cleaning</span>\n",
    "\n",
    "### Rename columns if needed and drop unneccessary columns\n",
    "\n",
    "We want to have a DataFrame with 2 columns - `date` and `pm25` after this cell below:\n"
   ]
  },
  {
   "cell_type": "markdown",
   "id": "389d0cba",
   "metadata": {},
   "source": [
    "## Check the data types for the columns in your DataFrame\n",
    "\n",
    "- `date` should be of type datetime64[ns]\n",
    "- `pm25` should be of type float64\n"
   ]
  },
  {
   "cell_type": "code",
   "execution_count": null,
   "id": "2574de29",
   "metadata": {},
   "outputs": [
    {
     "data": {
      "text/html": [
       "<div>\n",
       "<style scoped>\n",
       "    .dataframe tbody tr th:only-of-type {\n",
       "        vertical-align: middle;\n",
       "    }\n",
       "\n",
       "    .dataframe tbody tr th {\n",
       "        vertical-align: top;\n",
       "    }\n",
       "\n",
       "    .dataframe thead th {\n",
       "        text-align: right;\n",
       "    }\n",
       "</style>\n",
       "<table border=\"1\" class=\"dataframe\">\n",
       "  <thead>\n",
       "    <tr style=\"text-align: right;\">\n",
       "      <th></th>\n",
       "      <th>date</th>\n",
       "      <th>pm25</th>\n",
       "    </tr>\n",
       "  </thead>\n",
       "  <tbody>\n",
       "    <tr>\n",
       "      <th>0</th>\n",
       "      <td>2025-05-02</td>\n",
       "      <td>50.0</td>\n",
       "    </tr>\n",
       "    <tr>\n",
       "      <th>1</th>\n",
       "      <td>2025-05-03</td>\n",
       "      <td>56.0</td>\n",
       "    </tr>\n",
       "    <tr>\n",
       "      <th>2</th>\n",
       "      <td>2025-05-04</td>\n",
       "      <td>55.0</td>\n",
       "    </tr>\n",
       "    <tr>\n",
       "      <th>3</th>\n",
       "      <td>2025-05-05</td>\n",
       "      <td>55.0</td>\n",
       "    </tr>\n",
       "    <tr>\n",
       "      <th>4</th>\n",
       "      <td>2025-05-06</td>\n",
       "      <td>49.0</td>\n",
       "    </tr>\n",
       "    <tr>\n",
       "      <th>...</th>\n",
       "      <td>...</td>\n",
       "      <td>...</td>\n",
       "    </tr>\n",
       "    <tr>\n",
       "      <th>1931</th>\n",
       "      <td>2019-12-26</td>\n",
       "      <td>65.0</td>\n",
       "    </tr>\n",
       "    <tr>\n",
       "      <th>1932</th>\n",
       "      <td>2019-12-27</td>\n",
       "      <td>48.0</td>\n",
       "    </tr>\n",
       "    <tr>\n",
       "      <th>1933</th>\n",
       "      <td>2019-12-28</td>\n",
       "      <td>54.0</td>\n",
       "    </tr>\n",
       "    <tr>\n",
       "      <th>1934</th>\n",
       "      <td>2019-12-29</td>\n",
       "      <td>64.0</td>\n",
       "    </tr>\n",
       "    <tr>\n",
       "      <th>1935</th>\n",
       "      <td>2019-12-30</td>\n",
       "      <td>55.0</td>\n",
       "    </tr>\n",
       "  </tbody>\n",
       "</table>\n",
       "<p>1936 rows × 2 columns</p>\n",
       "</div>"
      ],
      "text/plain": [
       "           date  pm25\n",
       "0    2025-05-02  50.0\n",
       "1    2025-05-03  56.0\n",
       "2    2025-05-04  55.0\n",
       "3    2025-05-05  55.0\n",
       "4    2025-05-06  49.0\n",
       "...         ...   ...\n",
       "1931 2019-12-26  65.0\n",
       "1932 2019-12-27  48.0\n",
       "1933 2019-12-28  54.0\n",
       "1934 2019-12-29  64.0\n",
       "1935 2019-12-30  55.0\n",
       "\n",
       "[1936 rows x 2 columns]"
      ]
     },
     "metadata": {},
     "output_type": "display_data"
    }
   ],
   "source": [
    "# These commands will succeed if your CSV file didn't have a `median` or `timestamp` column\n",
    "df = df.rename(columns={\"median\": \"pm25\"})\n",
    "df = df.rename(columns={\"timestamp\": \"date\"})\n",
    "\n",
    "df_aq = df[[\"date\", \"pm25\"]]\n",
    "df_aq[\"pm25\"] = df_aq[\"pm25\"].astype(\"float32\")\n",
    "\n",
    "df_aq"
   ]
  },
  {
   "cell_type": "code",
   "execution_count": null,
   "id": "e31e2bac",
   "metadata": {},
   "outputs": [
    {
     "name": "stdout",
     "output_type": "stream",
     "text": [
      "<class 'pandas.core.frame.DataFrame'>\n",
      "RangeIndex: 1936 entries, 0 to 1935\n",
      "Data columns (total 2 columns):\n",
      " #   Column  Non-Null Count  Dtype         \n",
      "---  ------  --------------  -----         \n",
      " 0   date    1936 non-null   datetime64[ns]\n",
      " 1   pm25    1936 non-null   float32       \n",
      "dtypes: datetime64[ns](1), float32(1)\n",
      "memory usage: 22.8 KB\n"
     ]
    }
   ],
   "source": [
    "# Cast the pm25 column to be a float32 data type\n",
    "df_aq.info()"
   ]
  },
  {
   "cell_type": "markdown",
   "id": "eb755732",
   "metadata": {},
   "source": [
    "## <span style='color:#ff5f27'> 🌍 STEP 7: Drop any rows with missing data </span>\n",
    "\n",
    "It will make the model training easier if there is no missing data in the rows, so we drop any rows with missing data.\n"
   ]
  },
  {
   "cell_type": "code",
   "execution_count": null,
   "id": "d673f9fd",
   "metadata": {},
   "outputs": [
    {
     "data": {
      "text/html": [
       "<div>\n",
       "<style scoped>\n",
       "    .dataframe tbody tr th:only-of-type {\n",
       "        vertical-align: middle;\n",
       "    }\n",
       "\n",
       "    .dataframe tbody tr th {\n",
       "        vertical-align: top;\n",
       "    }\n",
       "\n",
       "    .dataframe thead th {\n",
       "        text-align: right;\n",
       "    }\n",
       "</style>\n",
       "<table border=\"1\" class=\"dataframe\">\n",
       "  <thead>\n",
       "    <tr style=\"text-align: right;\">\n",
       "      <th></th>\n",
       "      <th>date</th>\n",
       "      <th>pm25</th>\n",
       "    </tr>\n",
       "  </thead>\n",
       "  <tbody>\n",
       "    <tr>\n",
       "      <th>0</th>\n",
       "      <td>2025-05-02</td>\n",
       "      <td>50.0</td>\n",
       "    </tr>\n",
       "    <tr>\n",
       "      <th>1</th>\n",
       "      <td>2025-05-03</td>\n",
       "      <td>56.0</td>\n",
       "    </tr>\n",
       "    <tr>\n",
       "      <th>2</th>\n",
       "      <td>2025-05-04</td>\n",
       "      <td>55.0</td>\n",
       "    </tr>\n",
       "    <tr>\n",
       "      <th>3</th>\n",
       "      <td>2025-05-05</td>\n",
       "      <td>55.0</td>\n",
       "    </tr>\n",
       "    <tr>\n",
       "      <th>4</th>\n",
       "      <td>2025-05-06</td>\n",
       "      <td>49.0</td>\n",
       "    </tr>\n",
       "    <tr>\n",
       "      <th>...</th>\n",
       "      <td>...</td>\n",
       "      <td>...</td>\n",
       "    </tr>\n",
       "    <tr>\n",
       "      <th>1931</th>\n",
       "      <td>2019-12-26</td>\n",
       "      <td>65.0</td>\n",
       "    </tr>\n",
       "    <tr>\n",
       "      <th>1932</th>\n",
       "      <td>2019-12-27</td>\n",
       "      <td>48.0</td>\n",
       "    </tr>\n",
       "    <tr>\n",
       "      <th>1933</th>\n",
       "      <td>2019-12-28</td>\n",
       "      <td>54.0</td>\n",
       "    </tr>\n",
       "    <tr>\n",
       "      <th>1934</th>\n",
       "      <td>2019-12-29</td>\n",
       "      <td>64.0</td>\n",
       "    </tr>\n",
       "    <tr>\n",
       "      <th>1935</th>\n",
       "      <td>2019-12-30</td>\n",
       "      <td>55.0</td>\n",
       "    </tr>\n",
       "  </tbody>\n",
       "</table>\n",
       "<p>1936 rows × 2 columns</p>\n",
       "</div>"
      ],
      "text/plain": [
       "           date  pm25\n",
       "0    2025-05-02  50.0\n",
       "1    2025-05-03  56.0\n",
       "2    2025-05-04  55.0\n",
       "3    2025-05-05  55.0\n",
       "4    2025-05-06  49.0\n",
       "...         ...   ...\n",
       "1931 2019-12-26  65.0\n",
       "1932 2019-12-27  48.0\n",
       "1933 2019-12-28  54.0\n",
       "1934 2019-12-29  64.0\n",
       "1935 2019-12-30  55.0\n",
       "\n",
       "[1936 rows x 2 columns]"
      ]
     },
     "metadata": {},
     "output_type": "display_data"
    }
   ],
   "source": [
    "df_aq.dropna(inplace=True)\n",
    "df_aq"
   ]
  },
  {
   "cell_type": "markdown",
   "id": "3cab8428",
   "metadata": {},
   "source": [
    "## <span style='color:#ff5f27'> 🌍 STEP 8: Add country, city, street, url to the DataFrame </span>\n",
    "\n",
    "Your CSV file may have many other air quality measurement columns. We will only work with the `pm25` column.\n",
    "\n",
    "We add the columns for the country, city, and street names that you changed for your Air Quality sensor.\n",
    "\n",
    "We also want to make sure the `pm25` column is a float32 data type.\n"
   ]
  },
  {
   "cell_type": "code",
   "execution_count": null,
   "id": "a04939fc",
   "metadata": {},
   "outputs": [
    {
     "data": {
      "text/html": [
       "<div>\n",
       "<style scoped>\n",
       "    .dataframe tbody tr th:only-of-type {\n",
       "        vertical-align: middle;\n",
       "    }\n",
       "\n",
       "    .dataframe tbody tr th {\n",
       "        vertical-align: top;\n",
       "    }\n",
       "\n",
       "    .dataframe thead th {\n",
       "        text-align: right;\n",
       "    }\n",
       "</style>\n",
       "<table border=\"1\" class=\"dataframe\">\n",
       "  <thead>\n",
       "    <tr style=\"text-align: right;\">\n",
       "      <th></th>\n",
       "      <th>date</th>\n",
       "      <th>pm25</th>\n",
       "      <th>country</th>\n",
       "      <th>city</th>\n",
       "      <th>street</th>\n",
       "      <th>url</th>\n",
       "    </tr>\n",
       "  </thead>\n",
       "  <tbody>\n",
       "    <tr>\n",
       "      <th>0</th>\n",
       "      <td>2025-05-02</td>\n",
       "      <td>50.0</td>\n",
       "      <td>colombia</td>\n",
       "      <td>medellin</td>\n",
       "      <td>el-poblado</td>\n",
       "      <td>https://api.waqi.info/feed/@12635</td>\n",
       "    </tr>\n",
       "    <tr>\n",
       "      <th>1</th>\n",
       "      <td>2025-05-03</td>\n",
       "      <td>56.0</td>\n",
       "      <td>colombia</td>\n",
       "      <td>medellin</td>\n",
       "      <td>el-poblado</td>\n",
       "      <td>https://api.waqi.info/feed/@12635</td>\n",
       "    </tr>\n",
       "    <tr>\n",
       "      <th>2</th>\n",
       "      <td>2025-05-04</td>\n",
       "      <td>55.0</td>\n",
       "      <td>colombia</td>\n",
       "      <td>medellin</td>\n",
       "      <td>el-poblado</td>\n",
       "      <td>https://api.waqi.info/feed/@12635</td>\n",
       "    </tr>\n",
       "    <tr>\n",
       "      <th>3</th>\n",
       "      <td>2025-05-05</td>\n",
       "      <td>55.0</td>\n",
       "      <td>colombia</td>\n",
       "      <td>medellin</td>\n",
       "      <td>el-poblado</td>\n",
       "      <td>https://api.waqi.info/feed/@12635</td>\n",
       "    </tr>\n",
       "    <tr>\n",
       "      <th>4</th>\n",
       "      <td>2025-05-06</td>\n",
       "      <td>49.0</td>\n",
       "      <td>colombia</td>\n",
       "      <td>medellin</td>\n",
       "      <td>el-poblado</td>\n",
       "      <td>https://api.waqi.info/feed/@12635</td>\n",
       "    </tr>\n",
       "    <tr>\n",
       "      <th>...</th>\n",
       "      <td>...</td>\n",
       "      <td>...</td>\n",
       "      <td>...</td>\n",
       "      <td>...</td>\n",
       "      <td>...</td>\n",
       "      <td>...</td>\n",
       "    </tr>\n",
       "    <tr>\n",
       "      <th>1931</th>\n",
       "      <td>2019-12-26</td>\n",
       "      <td>65.0</td>\n",
       "      <td>colombia</td>\n",
       "      <td>medellin</td>\n",
       "      <td>el-poblado</td>\n",
       "      <td>https://api.waqi.info/feed/@12635</td>\n",
       "    </tr>\n",
       "    <tr>\n",
       "      <th>1932</th>\n",
       "      <td>2019-12-27</td>\n",
       "      <td>48.0</td>\n",
       "      <td>colombia</td>\n",
       "      <td>medellin</td>\n",
       "      <td>el-poblado</td>\n",
       "      <td>https://api.waqi.info/feed/@12635</td>\n",
       "    </tr>\n",
       "    <tr>\n",
       "      <th>1933</th>\n",
       "      <td>2019-12-28</td>\n",
       "      <td>54.0</td>\n",
       "      <td>colombia</td>\n",
       "      <td>medellin</td>\n",
       "      <td>el-poblado</td>\n",
       "      <td>https://api.waqi.info/feed/@12635</td>\n",
       "    </tr>\n",
       "    <tr>\n",
       "      <th>1934</th>\n",
       "      <td>2019-12-29</td>\n",
       "      <td>64.0</td>\n",
       "      <td>colombia</td>\n",
       "      <td>medellin</td>\n",
       "      <td>el-poblado</td>\n",
       "      <td>https://api.waqi.info/feed/@12635</td>\n",
       "    </tr>\n",
       "    <tr>\n",
       "      <th>1935</th>\n",
       "      <td>2019-12-30</td>\n",
       "      <td>55.0</td>\n",
       "      <td>colombia</td>\n",
       "      <td>medellin</td>\n",
       "      <td>el-poblado</td>\n",
       "      <td>https://api.waqi.info/feed/@12635</td>\n",
       "    </tr>\n",
       "  </tbody>\n",
       "</table>\n",
       "<p>1936 rows × 6 columns</p>\n",
       "</div>"
      ],
      "text/plain": [
       "           date  pm25   country      city      street  \\\n",
       "0    2025-05-02  50.0  colombia  medellin  el-poblado   \n",
       "1    2025-05-03  56.0  colombia  medellin  el-poblado   \n",
       "2    2025-05-04  55.0  colombia  medellin  el-poblado   \n",
       "3    2025-05-05  55.0  colombia  medellin  el-poblado   \n",
       "4    2025-05-06  49.0  colombia  medellin  el-poblado   \n",
       "...         ...   ...       ...       ...         ...   \n",
       "1931 2019-12-26  65.0  colombia  medellin  el-poblado   \n",
       "1932 2019-12-27  48.0  colombia  medellin  el-poblado   \n",
       "1933 2019-12-28  54.0  colombia  medellin  el-poblado   \n",
       "1934 2019-12-29  64.0  colombia  medellin  el-poblado   \n",
       "1935 2019-12-30  55.0  colombia  medellin  el-poblado   \n",
       "\n",
       "                                    url  \n",
       "0     https://api.waqi.info/feed/@12635  \n",
       "1     https://api.waqi.info/feed/@12635  \n",
       "2     https://api.waqi.info/feed/@12635  \n",
       "3     https://api.waqi.info/feed/@12635  \n",
       "4     https://api.waqi.info/feed/@12635  \n",
       "...                                 ...  \n",
       "1931  https://api.waqi.info/feed/@12635  \n",
       "1932  https://api.waqi.info/feed/@12635  \n",
       "1933  https://api.waqi.info/feed/@12635  \n",
       "1934  https://api.waqi.info/feed/@12635  \n",
       "1935  https://api.waqi.info/feed/@12635  \n",
       "\n",
       "[1936 rows x 6 columns]"
      ]
     },
     "metadata": {},
     "output_type": "display_data"
    }
   ],
   "source": [
    "# Your sensor may have columns we won't use, so only keep the date and pm25 columns\n",
    "# If the column names in your DataFrame are different, rename your columns to `date` and `pm25`\n",
    "df_aq[\"country\"] = country\n",
    "df_aq[\"city\"] = city\n",
    "df_aq[\"street\"] = street\n",
    "df_aq[\"url\"] = aqicn_url\n",
    "df_aq"
   ]
  },
  {
   "cell_type": "markdown",
   "id": "3732c4cd",
   "metadata": {},
   "source": [
    "---\n"
   ]
  },
  {
   "cell_type": "markdown",
   "id": "603efe64",
   "metadata": {},
   "source": [
    "## <span style='color:#ff5f27'> 🌦 Loading Weather Data from [Open Meteo](https://open-meteo.com/en/docs)\n"
   ]
  },
  {
   "cell_type": "markdown",
   "id": "04224dc9",
   "metadata": {},
   "source": [
    "## <span style='color:#ff5f27'> 🌍 STEP 9: Download the Historical Weather Data </span>\n",
    "\n",
    "https://open-meteo.com/en/docs/historical-weather-api#hourly=&daily=temperature_2m_mean,precipitation_sum,wind_speed_10m_max,wind_direction_10m_dominant\n",
    "\n",
    "We will download the historical weather data for your `city` by first extracting the earliest date from your DataFrame containing the historical air quality measurements.\n",
    "\n",
    "We will download all daily historical weather data measurements for your `city` from the earliest date in your air quality measurement DataFrame. It doesn't matter if there are missing days of air quality measurements. We can store all of the daily weather measurements, and when we build our training dataset, we will join up the air quality measurements for a given day to its weather features for that day.\n",
    "\n",
    "The weather features we will download are:\n",
    "\n",
    "- `temperature (average over the day)`\n",
    "- `precipitation (the total over the day)`\n",
    "- `wind speed (average over the day)`\n",
    "- `wind direction (the most dominant direction over the day)`\n"
   ]
  },
  {
   "cell_type": "code",
   "execution_count": null,
   "id": "9c8043a4",
   "metadata": {},
   "outputs": [
    {
     "name": "stdout",
     "output_type": "stream",
     "text": [
      "Coordinates 6.2917399406433105°N -75.69036865234375°E\n",
      "Elevation 1570.0 m asl\n",
      "Timezone None None\n",
      "Timezone difference to GMT+0 0 s\n"
     ]
    }
   ],
   "source": [
    "earliest_aq_date = pd.Series.min(df_aq[\"date\"])\n",
    "earliest_aq_date = earliest_aq_date.strftime(\"%Y-%m-%d\")\n",
    "\n",
    "weather_df = util.get_historical_weather(city, earliest_aq_date, str(today), latitude, longitude)"
   ]
  },
  {
   "cell_type": "code",
   "execution_count": null,
   "id": "692b2f05",
   "metadata": {},
   "outputs": [
    {
     "name": "stdout",
     "output_type": "stream",
     "text": [
      "<class 'pandas.core.frame.DataFrame'>\n",
      "Index: 1980 entries, 0 to 1979\n",
      "Data columns (total 6 columns):\n",
      " #   Column                       Non-Null Count  Dtype         \n",
      "---  ------                       --------------  -----         \n",
      " 0   date                         1980 non-null   datetime64[ns]\n",
      " 1   temperature_2m_mean          1980 non-null   float32       \n",
      " 2   precipitation_sum            1980 non-null   float32       \n",
      " 3   wind_speed_10m_max           1980 non-null   float32       \n",
      " 4   wind_direction_10m_dominant  1980 non-null   float32       \n",
      " 5   city                         1980 non-null   object        \n",
      "dtypes: datetime64[ns](1), float32(4), object(1)\n",
      "memory usage: 77.3+ KB\n"
     ]
    }
   ],
   "source": [
    "weather_df.info()"
   ]
  },
  {
   "cell_type": "code",
   "execution_count": null,
   "id": "4cdce3e3",
   "metadata": {},
   "outputs": [
    {
     "data": {
      "text/html": [
       "<div>\n",
       "<style scoped>\n",
       "    .dataframe tbody tr th:only-of-type {\n",
       "        vertical-align: middle;\n",
       "    }\n",
       "\n",
       "    .dataframe tbody tr th {\n",
       "        vertical-align: top;\n",
       "    }\n",
       "\n",
       "    .dataframe thead th {\n",
       "        text-align: right;\n",
       "    }\n",
       "</style>\n",
       "<table border=\"1\" class=\"dataframe\">\n",
       "  <thead>\n",
       "    <tr style=\"text-align: right;\">\n",
       "      <th></th>\n",
       "      <th>date</th>\n",
       "      <th>temperature_2m_mean</th>\n",
       "      <th>precipitation_sum</th>\n",
       "      <th>wind_speed_10m_max</th>\n",
       "      <th>wind_direction_10m_dominant</th>\n",
       "      <th>city</th>\n",
       "    </tr>\n",
       "  </thead>\n",
       "  <tbody>\n",
       "    <tr>\n",
       "      <th>0</th>\n",
       "      <td>2019-12-15</td>\n",
       "      <td>18.322668</td>\n",
       "      <td>8.9</td>\n",
       "      <td>6.618519</td>\n",
       "      <td>48.224552</td>\n",
       "      <td>medellin</td>\n",
       "    </tr>\n",
       "    <tr>\n",
       "      <th>1</th>\n",
       "      <td>2019-12-16</td>\n",
       "      <td>19.126833</td>\n",
       "      <td>6.3</td>\n",
       "      <td>9.360000</td>\n",
       "      <td>76.253380</td>\n",
       "      <td>medellin</td>\n",
       "    </tr>\n",
       "    <tr>\n",
       "      <th>2</th>\n",
       "      <td>2019-12-17</td>\n",
       "      <td>18.935167</td>\n",
       "      <td>5.4</td>\n",
       "      <td>8.049845</td>\n",
       "      <td>71.833992</td>\n",
       "      <td>medellin</td>\n",
       "    </tr>\n",
       "    <tr>\n",
       "      <th>3</th>\n",
       "      <td>2019-12-18</td>\n",
       "      <td>19.218500</td>\n",
       "      <td>2.2</td>\n",
       "      <td>7.235910</td>\n",
       "      <td>352.234863</td>\n",
       "      <td>medellin</td>\n",
       "    </tr>\n",
       "    <tr>\n",
       "      <th>4</th>\n",
       "      <td>2019-12-19</td>\n",
       "      <td>19.410166</td>\n",
       "      <td>0.6</td>\n",
       "      <td>8.287822</td>\n",
       "      <td>64.303047</td>\n",
       "      <td>medellin</td>\n",
       "    </tr>\n",
       "  </tbody>\n",
       "</table>\n",
       "</div>"
      ],
      "text/plain": [
       "        date  temperature_2m_mean  precipitation_sum  wind_speed_10m_max  \\\n",
       "0 2019-12-15            18.322668                8.9            6.618519   \n",
       "1 2019-12-16            19.126833                6.3            9.360000   \n",
       "2 2019-12-17            18.935167                5.4            8.049845   \n",
       "3 2019-12-18            19.218500                2.2            7.235910   \n",
       "4 2019-12-19            19.410166                0.6            8.287822   \n",
       "\n",
       "   wind_direction_10m_dominant      city  \n",
       "0                    48.224552  medellin  \n",
       "1                    76.253380  medellin  \n",
       "2                    71.833992  medellin  \n",
       "3                   352.234863  medellin  \n",
       "4                    64.303047  medellin  "
      ]
     },
     "metadata": {},
     "output_type": "display_data"
    }
   ],
   "source": [
    "weather_df.head()"
   ]
  },
  {
   "cell_type": "markdown",
   "id": "9e1ce878",
   "metadata": {},
   "source": [
    "## <span style='color:#ff5f27'> 🌍 STEP 10: Define Data Validation Rules </span>\n",
    "\n",
    "We will validate the air quality measurements (`pm25` values) before we write them to Hopsworks.\n",
    "\n",
    "We define a data validation rule (an expectation in Great Expectations) that ensures that `pm25` values are not negative or above the max value available by the sensor.\n",
    "\n",
    "We will attach this expectation to the air quality feature group, so that we validate the `pm25` data every time we write a DataFrame to the feature group. We want to prevent garbage-in, garbage-out.\n"
   ]
  },
  {
   "cell_type": "code",
   "execution_count": null,
   "id": "20b79dca",
   "metadata": {},
   "outputs": [
    {
     "data": {
      "text/plain": [
       "{\"expectation_type\": \"expect_column_min_to_be_between\", \"kwargs\": {\"column\": \"pm25\", \"min_value\": -0.1, \"max_value\": 500.0, \"strict_min\": true}, \"meta\": {}}"
      ]
     },
     "metadata": {},
     "output_type": "display_data"
    }
   ],
   "source": [
    "import great_expectations as ge\n",
    "\n",
    "aq_expectation_suite = ge.core.ExpectationSuite(expectation_suite_name=\"aq_expectation_suite\")\n",
    "\n",
    "aq_expectation_suite.add_expectation(\n",
    "    ge.core.ExpectationConfiguration(\n",
    "        expectation_type=\"expect_column_min_to_be_between\",\n",
    "        kwargs={\n",
    "            \"column\": \"pm25\",\n",
    "            \"min_value\": -0.1,\n",
    "            \"max_value\": 500.0,\n",
    "            \"strict_min\": True,\n",
    "        },\n",
    "    )\n",
    ")"
   ]
  },
  {
   "cell_type": "markdown",
   "id": "7255b8a5",
   "metadata": {},
   "source": [
    "## Expectations for Weather Data\n",
    "\n",
    "Here, we define an expectation for 2 columns in our weather DataFrame - `precipitation_sum` and `wind_speed_10m_max`, where we expect both values to be greater than zero, but less than 1000.\n"
   ]
  },
  {
   "cell_type": "code",
   "execution_count": null,
   "id": "5c461c1d",
   "metadata": {},
   "outputs": [],
   "source": [
    "import great_expectations as ge\n",
    "\n",
    "weather_expectation_suite = ge.core.ExpectationSuite(\n",
    "    expectation_suite_name=\"weather_expectation_suite\"\n",
    ")\n",
    "\n",
    "\n",
    "def expect_greater_than_zero(col):\n",
    "    weather_expectation_suite.add_expectation(\n",
    "        ge.core.ExpectationConfiguration(\n",
    "            expectation_type=\"expect_column_min_to_be_between\",\n",
    "            kwargs={\n",
    "                \"column\": col,\n",
    "                \"min_value\": -0.1,\n",
    "                \"max_value\": 1000.0,\n",
    "                \"strict_min\": True,\n",
    "            },\n",
    "        )\n",
    "    )\n",
    "\n",
    "\n",
    "expect_greater_than_zero(\"precipitation_sum\")\n",
    "expect_greater_than_zero(\"wind_speed_10m_max\")"
   ]
  },
  {
   "cell_type": "markdown",
   "id": "1eb34e91",
   "metadata": {},
   "source": [
    "---\n"
   ]
  },
  {
   "cell_type": "markdown",
   "id": "bee7b721",
   "metadata": {},
   "source": [
    "### <span style=\"color:#ff5f27;\"> 🔮 STEP 11: Connect to Hopsworks and save the sensor country, city, street names as a secret</span>\n"
   ]
  },
  {
   "cell_type": "code",
   "execution_count": null,
   "id": "bc18e061",
   "metadata": {},
   "outputs": [],
   "source": [
    "fs = project.get_feature_store()"
   ]
  },
  {
   "cell_type": "markdown",
   "id": "b230fda1",
   "metadata": {},
   "source": [
    "#### Save country, city, street names as a secret\n",
    "\n",
    "These will be downloaded from Hopsworks later in the (1) daily feature pipeline and (2) the daily batch inference pipeline\n"
   ]
  },
  {
   "cell_type": "code",
   "execution_count": null,
   "id": "5fd59f37",
   "metadata": {},
   "outputs": [
    {
     "name": "stdout",
     "output_type": "stream",
     "text": [
      "No existing SENSOR_LOCATION_JSON secret or error deleting it\n",
      "Secret created successfully, explore it at https://c.app.hopsworks.ai:443/account/secrets\n"
     ]
    },
    {
     "data": {
      "text/plain": [
       "Secret('SENSOR_LOCATION_JSON', 'PRIVATE')"
      ]
     },
     "metadata": {},
     "output_type": "display_data"
    }
   ],
   "source": [
    "dict_obj = {\n",
    "    \"country\": country,\n",
    "    \"city\": city,\n",
    "    \"street\": street,\n",
    "    \"aqicn_url\": aqicn_url,\n",
    "    \"latitude\": latitude,\n",
    "    \"longitude\": longitude,\n",
    "}\n",
    "\n",
    "# Convert the dictionary to a JSON string\n",
    "str_dict = json.dumps(dict_obj)\n",
    "\n",
    "try:\n",
    "    # Replace any existing secret with the new value\n",
    "    secret = secrets.get_secret(\"SENSOR_LOCATION_JSON\")\n",
    "    secret.delete()\n",
    "    print(\"Replacing existing SENSOR_LOCATION_JSON\")\n",
    "except (hopsworks.RestAPIError, AttributeError):\n",
    "    print(\"No existing SENSOR_LOCATION_JSON secret or error deleting it\")\n",
    "\n",
    "secrets.create_secret(\"SENSOR_LOCATION_JSON\", str_dict)"
   ]
  },
  {
   "cell_type": "markdown",
   "id": "8f51029a",
   "metadata": {},
   "source": [
    "### <span style=\"color:#ff5f27;\"> 🔮 STEP 12: Create the Feature Groups and insert the DataFrames in them </span>\n"
   ]
  },
  {
   "cell_type": "markdown",
   "id": "6d737256",
   "metadata": {},
   "source": [
    "### <span style='color:#ff5f27'> 🌫 Air Quality Data\n",
    "\n",
    "1.  Provide a name, description, and version for the feature group.\n",
    "2.  Define the `primary_key`: we have to select which columns uniquely identify each row in the DataFrame - by providing them as the `primary_key`. Here, each air quality sensor measurement is uniquely identified by `country`, `street`, and `date`.\n",
    "3.  Define the `event_time`: We also define which column stores the timestamp or date for the row - `date`.\n",
    "4.  Attach any `expectation_suite` containing data validation rules\n"
   ]
  },
  {
   "cell_type": "code",
   "execution_count": null,
   "id": "5e56daf9",
   "metadata": {},
   "outputs": [],
   "source": [
    "air_quality_fg = fs.get_or_create_feature_group(\n",
    "    name=\"air_quality\",\n",
    "    description=\"Air Quality characteristics of each day\",\n",
    "    version=1,\n",
    "    primary_key=[\"city\", \"street\"],\n",
    "    event_time=\"date\",\n",
    "    expectation_suite=aq_expectation_suite,\n",
    ")"
   ]
  },
  {
   "cell_type": "markdown",
   "id": "91fd3975",
   "metadata": {},
   "source": [
    "#### Insert the DataFrame into the Feature Group\n"
   ]
  },
  {
   "cell_type": "code",
   "execution_count": null,
   "id": "460ba0a7",
   "metadata": {},
   "outputs": [
    {
     "name": "stdout",
     "output_type": "stream",
     "text": [
      "Feature Group created successfully, explore it at \n",
      "https://c.app.hopsworks.ai:443/p/1224891/fs/1211503/fg/1458858\n",
      "2025-05-18 10:14:27,114 INFO: \t1 expectation(s) included in expectation_suite.\n",
      "Validation succeeded.\n",
      "Validation Report saved successfully, explore a summary at https://c.app.hopsworks.ai:443/p/1224891/fs/1211503/fg/1458858\n"
     ]
    },
    {
     "name": "stderr",
     "output_type": "stream",
     "text": [
      "Uploading Dataframe: 100.00% |██████████| Rows 1936/1936 | Elapsed Time: 00:00 | Remaining Time: 00:00\n"
     ]
    },
    {
     "name": "stdout",
     "output_type": "stream",
     "text": [
      "Launching job: air_quality_1_offline_fg_materialization\n",
      "Job started successfully, you can follow the progress at \n",
      "https://c.app.hopsworks.ai:443/p/1224891/jobs/named/air_quality_1_offline_fg_materialization/executions\n"
     ]
    },
    {
     "data": {
      "text/plain": [
       "(Job('air_quality_1_offline_fg_materialization', 'SPARK'),\n",
       " {\n",
       "   \"success\": true,\n",
       "   \"results\": [\n",
       "     {\n",
       "       \"success\": true,\n",
       "       \"expectation_config\": {\n",
       "         \"expectation_type\": \"expect_column_min_to_be_between\",\n",
       "         \"kwargs\": {\n",
       "           \"column\": \"pm25\",\n",
       "           \"min_value\": -0.1,\n",
       "           \"max_value\": 500.0,\n",
       "           \"strict_min\": true\n",
       "         },\n",
       "         \"meta\": {\n",
       "           \"expectationId\": 709663\n",
       "         }\n",
       "       },\n",
       "       \"result\": {\n",
       "         \"observed_value\": 18.999998092651367,\n",
       "         \"element_count\": 1936,\n",
       "         \"missing_count\": null,\n",
       "         \"missing_percent\": null\n",
       "       },\n",
       "       \"meta\": {\n",
       "         \"ingestionResult\": \"INGESTED\",\n",
       "         \"validationTime\": \"2025-05-18T03:14:27.000114Z\"\n",
       "       },\n",
       "       \"exception_info\": {\n",
       "         \"raised_exception\": false,\n",
       "         \"exception_message\": null,\n",
       "         \"exception_traceback\": null\n",
       "       }\n",
       "     }\n",
       "   ],\n",
       "   \"evaluation_parameters\": {},\n",
       "   \"statistics\": {\n",
       "     \"evaluated_expectations\": 1,\n",
       "     \"successful_expectations\": 1,\n",
       "     \"unsuccessful_expectations\": 0,\n",
       "     \"success_percent\": 100.0\n",
       "   },\n",
       "   \"meta\": {\n",
       "     \"great_expectations_version\": \"0.18.12\",\n",
       "     \"expectation_suite_name\": \"aq_expectation_suite\",\n",
       "     \"run_id\": {\n",
       "       \"run_name\": null,\n",
       "       \"run_time\": \"2025-05-18T10:14:27.114788-05:00\"\n",
       "     },\n",
       "     \"batch_kwargs\": {\n",
       "       \"ge_batch_id\": \"c9edf79e-33fa-11f0-a0ab-f3f83112f314\"\n",
       "     },\n",
       "     \"batch_markers\": {},\n",
       "     \"batch_parameters\": {},\n",
       "     \"validation_time\": \"20250518T151427.114720Z\",\n",
       "     \"expectation_suite_meta\": {\n",
       "       \"great_expectations_version\": \"0.18.12\"\n",
       "     }\n",
       "   }\n",
       " })"
      ]
     },
     "metadata": {},
     "output_type": "display_data"
    }
   ],
   "source": [
    "air_quality_fg.insert(df_aq)"
   ]
  },
  {
   "cell_type": "markdown",
   "id": "035f0b62",
   "metadata": {},
   "source": [
    "#### Enter a description for each feature in the Feature Group\n"
   ]
  },
  {
   "cell_type": "code",
   "execution_count": null,
   "id": "a988a82a",
   "metadata": {},
   "outputs": [
    {
     "data": {
      "text/plain": [
       "<hsfs.feature_group.FeatureGroup at 0x741545502390>"
      ]
     },
     "metadata": {},
     "output_type": "display_data"
    }
   ],
   "source": [
    "air_quality_fg.update_feature_description(\"date\", \"Date of measurement of air quality\")\n",
    "air_quality_fg.update_feature_description(\n",
    "    \"country\",\n",
    "    \"Country where the air quality was measured (sometimes a city in acqcn.org)\",\n",
    ")\n",
    "air_quality_fg.update_feature_description(\"city\", \"City where the air quality was measured\")\n",
    "air_quality_fg.update_feature_description(\n",
    "    \"street\", \"Street in the city where the air quality was measured\"\n",
    ")\n",
    "air_quality_fg.update_feature_description(\n",
    "    \"pm25\",\n",
    "    \"Particles less than 2.5 micrometers in diameter (fine particles) pose health risk\",\n",
    ")"
   ]
  },
  {
   "cell_type": "markdown",
   "id": "51cbdf91",
   "metadata": {},
   "source": [
    "### <span style='color:#ff5f27'> 🌦 Weather Data\n",
    "\n",
    "1.  Provide a name, description, and version for the feature group.\n",
    "2.  Define the `primary_key`: we have to select which columns uniquely identify each row in the DataFrame - by providing them as the `primary_key`. Here, each weather measurement is uniquely identified by `city` and `date`.\n",
    "3.  Define the `event_time`: We also define which column stores the timestamp or date for the row - `date`.\n",
    "4.  Attach any `expectation_suite` containing data validation rules\n"
   ]
  },
  {
   "cell_type": "code",
   "execution_count": null,
   "id": "b2565d14",
   "metadata": {},
   "outputs": [],
   "source": [
    "# Get or create feature group\n",
    "weather_fg = fs.get_or_create_feature_group(\n",
    "    name=\"weather\",\n",
    "    description=\"Weather characteristics of each day\",\n",
    "    version=1,\n",
    "    primary_key=[\"city\"],\n",
    "    event_time=\"date\",\n",
    "    expectation_suite=weather_expectation_suite,\n",
    ")"
   ]
  },
  {
   "cell_type": "markdown",
   "id": "5d102faf",
   "metadata": {},
   "source": [
    "#### Insert the DataFrame into the Feature Group\n"
   ]
  },
  {
   "cell_type": "code",
   "execution_count": null,
   "id": "a532fb51",
   "metadata": {},
   "outputs": [
    {
     "name": "stdout",
     "output_type": "stream",
     "text": [
      "Feature Group created successfully, explore it at \n",
      "https://c.app.hopsworks.ai:443/p/1224891/fs/1211503/fg/1458859\n",
      "2025-05-18 10:15:22,473 INFO: \t2 expectation(s) included in expectation_suite.\n",
      "Validation succeeded.\n",
      "Validation Report saved successfully, explore a summary at https://c.app.hopsworks.ai:443/p/1224891/fs/1211503/fg/1458859\n"
     ]
    },
    {
     "name": "stderr",
     "output_type": "stream",
     "text": [
      "Uploading Dataframe: 100.00% |██████████| Rows 1980/1980 | Elapsed Time: 00:01 | Remaining Time: 00:00\n"
     ]
    },
    {
     "name": "stdout",
     "output_type": "stream",
     "text": [
      "Launching job: weather_1_offline_fg_materialization\n",
      "Job started successfully, you can follow the progress at \n",
      "https://c.app.hopsworks.ai:443/p/1224891/jobs/named/weather_1_offline_fg_materialization/executions\n",
      "2025-05-18 10:15:38,866 INFO: Waiting for execution to finish. Current state: SUBMITTED. Final status: UNDEFINED\n",
      "2025-05-18 10:15:48,351 INFO: Waiting for execution to finish. Current state: RUNNING. Final status: UNDEFINED\n",
      "2025-05-18 10:17:47,325 INFO: Waiting for execution to finish. Current state: SUCCEEDING. Final status: UNDEFINED\n",
      "2025-05-18 10:17:50,573 INFO: Waiting for execution to finish. Current state: AGGREGATING_LOGS. Final status: SUCCEEDED\n",
      "2025-05-18 10:17:50,777 INFO: Waiting for log aggregation to finish.\n",
      "2025-05-18 10:18:12,720 INFO: Execution finished successfully.\n"
     ]
    },
    {
     "data": {
      "text/plain": [
       "(Job('weather_1_offline_fg_materialization', 'SPARK'),\n",
       " {\n",
       "   \"success\": true,\n",
       "   \"results\": [\n",
       "     {\n",
       "       \"success\": true,\n",
       "       \"expectation_config\": {\n",
       "         \"expectation_type\": \"expect_column_min_to_be_between\",\n",
       "         \"kwargs\": {\n",
       "           \"column\": \"precipitation_sum\",\n",
       "           \"min_value\": -0.1,\n",
       "           \"max_value\": 1000.0,\n",
       "           \"strict_min\": true\n",
       "         },\n",
       "         \"meta\": {\n",
       "           \"expectationId\": 709664\n",
       "         }\n",
       "       },\n",
       "       \"result\": {\n",
       "         \"observed_value\": 0.0,\n",
       "         \"element_count\": 1980,\n",
       "         \"missing_count\": null,\n",
       "         \"missing_percent\": null\n",
       "       },\n",
       "       \"meta\": {\n",
       "         \"ingestionResult\": \"INGESTED\",\n",
       "         \"validationTime\": \"2025-05-18T03:15:22.000473Z\"\n",
       "       },\n",
       "       \"exception_info\": {\n",
       "         \"raised_exception\": false,\n",
       "         \"exception_message\": null,\n",
       "         \"exception_traceback\": null\n",
       "       }\n",
       "     },\n",
       "     {\n",
       "       \"success\": true,\n",
       "       \"expectation_config\": {\n",
       "         \"expectation_type\": \"expect_column_min_to_be_between\",\n",
       "         \"kwargs\": {\n",
       "           \"column\": \"wind_speed_10m_max\",\n",
       "           \"min_value\": -0.1,\n",
       "           \"max_value\": 1000.0,\n",
       "           \"strict_min\": true\n",
       "         },\n",
       "         \"meta\": {\n",
       "           \"expectationId\": 709665\n",
       "         }\n",
       "       },\n",
       "       \"result\": {\n",
       "         \"observed_value\": 3.6712939739227295,\n",
       "         \"element_count\": 1980,\n",
       "         \"missing_count\": null,\n",
       "         \"missing_percent\": null\n",
       "       },\n",
       "       \"meta\": {\n",
       "         \"ingestionResult\": \"INGESTED\",\n",
       "         \"validationTime\": \"2025-05-18T03:15:22.000473Z\"\n",
       "       },\n",
       "       \"exception_info\": {\n",
       "         \"raised_exception\": false,\n",
       "         \"exception_message\": null,\n",
       "         \"exception_traceback\": null\n",
       "       }\n",
       "     }\n",
       "   ],\n",
       "   \"evaluation_parameters\": {},\n",
       "   \"statistics\": {\n",
       "     \"evaluated_expectations\": 2,\n",
       "     \"successful_expectations\": 2,\n",
       "     \"unsuccessful_expectations\": 0,\n",
       "     \"success_percent\": 100.0\n",
       "   },\n",
       "   \"meta\": {\n",
       "     \"great_expectations_version\": \"0.18.12\",\n",
       "     \"expectation_suite_name\": \"weather_expectation_suite\",\n",
       "     \"run_id\": {\n",
       "       \"run_name\": null,\n",
       "       \"run_time\": \"2025-05-18T10:15:22.473074-05:00\"\n",
       "     },\n",
       "     \"batch_kwargs\": {\n",
       "       \"ge_batch_id\": \"eaecfa12-33fa-11f0-a0ab-f3f83112f314\"\n",
       "     },\n",
       "     \"batch_markers\": {},\n",
       "     \"batch_parameters\": {},\n",
       "     \"validation_time\": \"20250518T151522.473012Z\",\n",
       "     \"expectation_suite_meta\": {\n",
       "       \"great_expectations_version\": \"0.18.12\"\n",
       "     }\n",
       "   }\n",
       " })"
      ]
     },
     "metadata": {},
     "output_type": "display_data"
    }
   ],
   "source": [
    "# Insert data\n",
    "weather_fg.insert(weather_df, wait=True)"
   ]
  },
  {
   "cell_type": "markdown",
   "id": "86c9e9ea",
   "metadata": {},
   "source": [
    "#### Enter a description for each feature in the Feature Group\n"
   ]
  },
  {
   "cell_type": "code",
   "execution_count": null,
   "id": "8b49959b",
   "metadata": {},
   "outputs": [
    {
     "data": {
      "text/plain": [
       "<hsfs.feature_group.FeatureGroup at 0x7415442c6b90>"
      ]
     },
     "metadata": {},
     "output_type": "display_data"
    }
   ],
   "source": [
    "weather_fg.update_feature_description(\"date\", \"Date of measurement of weather\")\n",
    "weather_fg.update_feature_description(\"city\", \"City where weather is measured/forecast for\")\n",
    "weather_fg.update_feature_description(\"temperature_2m_mean\", \"Temperature in Celsius\")\n",
    "weather_fg.update_feature_description(\"precipitation_sum\", \"Precipitation (rain/snow) in mm\")\n",
    "weather_fg.update_feature_description(\"wind_speed_10m_max\", \"Wind speed at 10m abouve ground\")\n",
    "weather_fg.update_feature_description(\n",
    "    \"wind_direction_10m_dominant\", \"Dominant Wind direction over the dayd\"\n",
    ")"
   ]
  },
  {
   "cell_type": "markdown",
   "id": "9921baf2",
   "metadata": {},
   "source": [
    "## <span style=\"color:#ff5f27;\">⏭️ **Next:** Part 02: Daily Feature Pipeline\n",
    "\n",
    " </span>\n"
   ]
  },
  {
   "cell_type": "markdown",
   "id": "651d78b4",
   "metadata": {},
   "source": [
    "## <span style=\"color:#ff5f27;\">⏭️ **Exercises:**\n",
    "\n",
    " </span>\n",
    "\n",
    "Extra Homework:\n",
    "\n",
    "- Try adding a new feature based on a rolling window of 3 days for 'pm25'\n",
    "  - This is not easy, as forecasting more than 1 day in the future, you won't have the previous 3 days of pm25 measurements.\n",
    "  - df.set_index(\"date\").rolling(3).mean() is only the start....\n",
    "- Parameterize the notebook, so that you can provide the `country`/`street`/`city`/`url`/`csv_file` as parameters.\n",
    "  - Hint: this will also require making the secret name (`SENSOR_LOCATION_JSON`), e.g., add the street name as part of the secret name. Then you have to pass that secret name as a parameter when running the operational feature pipeline and batch inference pipelines.\n",
    "  - After you have done this, collect the street/city/url/csv files for all the sensors in your city or region and you make dashboards for all of the air quality sensors in your city/region. You could even then add a dashboard for your city/region, as done [here for Poland](https://github.com/erno98/ID2223).\n",
    "\n",
    "Improve this AI System\n",
    "\n",
    "- As of mid 2024, there is no API call available to download historical data from the AQIN website. You could improve this system by writing a PR to download the CSV file using Python Selenium and the URL for the sensor.\n"
   ]
  },
  {
   "cell_type": "markdown",
   "id": "c580e1c8",
   "metadata": {},
   "source": [
    "---\n"
   ]
  },
  {
   "cell_type": "code",
   "execution_count": 10,
   "id": "56942bd7",
   "metadata": {},
   "outputs": [
    {
     "data": {
      "text/plain": [
       "'/Users/simon/Documents/algorhythms/er_diagram.png'"
      ]
     },
     "execution_count": 10,
     "metadata": {},
     "output_type": "execute_result"
    }
   ],
   "source": [
    "import graphviz\n",
    "\n",
    "er = graphviz.Digraph('ER', format='png')\n",
    "er.attr(rankdir='LR')\n",
    "\n",
    "# Entities\n",
    "er.node('User', 'User\\nuser_id (PK)\\nage\\ngender\\nlocation\\nmusic_profile')\n",
    "er.node('Artist', 'Artist\\nartist_id (PK)\\nname\\ngenres\\npopularity')\n",
    "er.node('Album', 'Album\\nalbum_id (PK)\\nname\\nartist_id (FK)\\nrelease_date\\npopularity\\ngenres')\n",
    "er.node('Track', 'Track\\ntrack_id (PK)\\nname\\nartist_id (FK)\\nalbum_id (FK)\\npopularity\\ngenres\\nrelease_date')\n",
    "er.node('UserTrackHistory', 'UserTrackHistory\\nuser_id (FK)\\ntrack_id (FK)\\nplayed_at (PK)\\nis_top\\nis_recent\\nis_liked')\n",
    "er.node('ChartTrack', 'ChartTrack\\nchart_id (PK)\\ntrack_id (FK)\\nname\\nartist_id (FK)\\nartist_name\\nalbum_id (FK)\\nalbum_name\\npopularity\\ngenres\\nchart_name\\nposition\\nadded_at')\n",
    "er.node('Recommendation', 'Recommendation\\nuser_id (FK)\\ntrack_id (FK)\\nalbum_id (FK)\\nscore\\nreason\\ncreated_at')\n",
    "\n",
    "# Relationships\n",
    "er.edge('Album', 'Artist', label='artist_id')\n",
    "er.edge('Track', 'Artist', label='artist_id')\n",
    "er.edge('Track', 'Album', label='album_id')\n",
    "er.edge('UserTrackHistory', 'User', label='user_id')\n",
    "er.edge('UserTrackHistory', 'Track', label='track_id')\n",
    "er.edge('ChartTrack', 'Track', label='track_id')\n",
    "er.edge('ChartTrack', 'Artist', label='artist_id')\n",
    "er.edge('ChartTrack', 'Album', label='album_id')\n",
    "er.edge('Recommendation', 'User', label='user_id')\n",
    "er.edge('Recommendation', 'Track', label='track_id')\n",
    "er.edge('Recommendation', 'Album', label='album_id')\n",
    "\n",
    "er.render('/Users/simon/Documents/algorhythms/er_diagram', view=True)"
   ]
  }
 ],
 "metadata": {
  "kernelspec": {
   "display_name": ".venv",
   "language": "python",
   "name": "python3"
  },
  "language_info": {
   "codemirror_mode": {
    "name": "ipython",
    "version": 3
   },
   "file_extension": ".py",
   "mimetype": "text/x-python",
   "name": "python",
   "nbconvert_exporter": "python",
   "pygments_lexer": "ipython3",
   "version": "3.11.12"
  }
 },
 "nbformat": 4,
 "nbformat_minor": 5
}
